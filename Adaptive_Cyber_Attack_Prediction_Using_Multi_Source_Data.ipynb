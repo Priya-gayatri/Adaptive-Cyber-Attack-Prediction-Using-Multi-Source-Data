{
  "metadata": {
    "kernelspec": {
      "display_name": "Python 3 (ipykernel)",
      "language": "python",
      "name": "python3"
    },
    "language_info": {
      "codemirror_mode": {
        "name": "ipython",
        "version": 3
      },
      "file_extension": ".py",
      "mimetype": "text/x-python",
      "name": "python",
      "nbconvert_exporter": "python",
      "pygments_lexer": "ipython3",
      "version": "3.9.13"
    },
    "kaggle": {
      "accelerator": "none",
      "dataSources": [
        {
          "sourceId": 8113350,
          "sourceType": "datasetVersion",
          "datasetId": 4793027
        }
      ],
      "isInternetEnabled": true,
      "language": "python",
      "sourceType": "notebook",
      "isGpuEnabled": false
    },
    "colab": {
      "provenance": [],
      "collapsed_sections": [
        "487bRLd_xG7h"
      ]
    }
  },
  "nbformat_minor": 0,
  "nbformat": 4,
  "cells": [
    {
      "source": [
        "\n",
        "import kagglehub\n",
        "ramoliyafenil_text_based_cyber_threat_detection_path = kagglehub.dataset_download('ramoliyafenil/text-based-cyber-threat-detection')\n",
        "\n",
        "print('Data source import complete.')\n"
      ],
      "metadata": {
        "id": "OwdF69-UxG7H",
        "colab": {
          "base_uri": "https://localhost:8080/"
        },
        "outputId": "27fe1314-5dda-4ef0-dedc-80fbff38f182"
      },
      "cell_type": "code",
      "outputs": [
        {
          "output_type": "stream",
          "name": "stdout",
          "text": [
            "Downloading from https://www.kaggle.com/api/v1/datasets/download/ramoliyafenil/text-based-cyber-threat-detection?dataset_version_number=1...\n"
          ]
        },
        {
          "output_type": "stream",
          "name": "stderr",
          "text": [
            "100%|██████████| 3.91M/3.91M [00:00<00:00, 42.5MB/s]"
          ]
        },
        {
          "output_type": "stream",
          "name": "stdout",
          "text": [
            "Extracting files...\n"
          ]
        },
        {
          "output_type": "stream",
          "name": "stderr",
          "text": [
            "\n"
          ]
        },
        {
          "output_type": "stream",
          "name": "stdout",
          "text": [
            "Data source import complete.\n"
          ]
        }
      ],
      "execution_count": null
    },
    {
      "cell_type": "code",
      "source": [
        "ramoliyafenil_text_based_cyber_threat_detection_path"
      ],
      "metadata": {
        "colab": {
          "base_uri": "https://localhost:8080/",
          "height": 35
        },
        "id": "-GVfwxsvxykN",
        "outputId": "7e48351e-3c2a-45fe-cb34-f4b25e49d1c8"
      },
      "execution_count": null,
      "outputs": [
        {
          "output_type": "execute_result",
          "data": {
            "text/plain": [
              "'/root/.cache/kagglehub/datasets/ramoliyafenil/text-based-cyber-threat-detection/versions/1'"
            ],
            "application/vnd.google.colaboratory.intrinsic+json": {
              "type": "string"
            }
          },
          "metadata": {},
          "execution_count": 2
        }
      ]
    },
    {
      "cell_type": "code",
      "source": [
        "# prompt: save the dataset to gdrive\n",
        "\n",
        "import shutil\n",
        "import os\n",
        "\n",
        "# Assuming ramoliyafenil_text_based_cyber_threat_detection_path is defined\n",
        "# from the previous code cell and contains the path to the downloaded dataset\n",
        "\n",
        "# Define the destination path in Google Drive\n",
        "destination_path = '/content/drive/My Drive/cyber_threat_detection_dataset'\n",
        "\n",
        "# Create the destination directory if it doesn't exist\n",
        "os.makedirs(destination_path, exist_ok=True)\n",
        "\n",
        "# Copy the dataset to Google Drive\n",
        "try:\n",
        "    shutil.copytree(ramoliyafenil_text_based_cyber_threat_detection_path, destination_path, dirs_exist_ok=True)\n",
        "    print(f\"Dataset successfully copied to: {destination_path}\")\n",
        "except Exception as e:\n",
        "    print(f\"An error occurred: {e}\")\n",
        "\n",
        "# Verify the copy\n",
        "!ls -l '/content/drive/My Drive/cyber_threat_detection_dataset'"
      ],
      "metadata": {
        "colab": {
          "base_uri": "https://localhost:8080/"
        },
        "id": "ImcX0FIZxzyJ",
        "outputId": "380cd292-8187-4e46-9d2e-4fb451a2077a"
      },
      "execution_count": null,
      "outputs": [
        {
          "output_type": "stream",
          "name": "stdout",
          "text": [
            "Dataset successfully copied to: /content/drive/My Drive/cyber_threat_detection_dataset\n",
            "total 14056\n",
            "-rw-r--r-- 1 root root 2843500 Jan 28 02:38 all.jsonl\n",
            "-rw-r--r-- 1 root root 5418580 Jan 28 02:38 cyber-threat-intelligence_all.csv\n",
            "-rw-r--r-- 1 root root  577370 Jan 28 02:38 Cyber-Threat-Intelligence-Custom-Data_new_processed.csv\n",
            "-rw-r--r-- 1 root root  395580 Jan 28 02:38 cyber-threat-intelligence-splited_test.csv\n",
            "-rw-r--r-- 1 root root 1884514 Jan 28 02:38 cyber-threat-intelligence-splited_train.csv\n",
            "-rw-r--r-- 1 root root  405077 Jan 28 02:38 cyber-threat-intelligence-splited_validate.csv\n",
            "-rw-r--r-- 1 root root  421219 Jan 28 02:38 test.jsonl\n",
            "-rw-r--r-- 1 root root 1999787 Jan 28 02:38 train.jsonl\n",
            "-rw-r--r-- 1 root root  432552 Jan 28 02:38 validation.jsonl\n"
          ]
        }
      ]
    },
    {
      "cell_type": "code",
      "source": [
        "import numpy as np\n",
        "import pandas as pd\n",
        "import seaborn as sns\n",
        "from tensorflow.keras.preprocessing.text import Tokenizer\n",
        "from tensorflow.keras.preprocessing.sequence import pad_sequences\n",
        "from sklearn.model_selection import train_test_split\n",
        "from sklearn.preprocessing import LabelEncoder\n",
        "from tensorflow.keras.models import Sequential\n",
        "from tensorflow.keras.layers import Embedding, LSTM, Dense, SpatialDropout1D\n",
        "from sklearn.metrics import confusion_matrix\n",
        "# from keras.utils.np_utils import to_categorical\n",
        "from tensorflow.keras.callbacks import EarlyStopping\n",
        "from tensorflow.keras.layers import Dropout\n",
        "import re\n",
        "from sklearn.feature_extraction.text import TfidfVectorizer\n",
        "from nltk.stem import WordNetLemmatizer\n",
        "from nltk.corpus import stopwords\n",
        "from nltk.corpus import stopwords\n",
        "from nltk.tokenize import word_tokenize\n",
        "from nltk.stem import WordNetLemmatizer\n",
        "import string\n",
        "import nltk"
      ],
      "metadata": {
        "id": "XZd14K4sxG7M"
      },
      "execution_count": null,
      "outputs": []
    },
    {
      "cell_type": "code",
      "source": [
        "df = pd.read_csv(ramoliyafenil_text_based_cyber_threat_detection_path+'/cyber-threat-intelligence_all.csv')"
      ],
      "metadata": {
        "id": "3SLWGB7CxG7N"
      },
      "execution_count": null,
      "outputs": []
    },
    {
      "cell_type": "code",
      "source": [
        "df.head()"
      ],
      "metadata": {
        "id": "tVNbbrLcxG7O",
        "colab": {
          "base_uri": "https://localhost:8080/",
          "height": 310
        },
        "outputId": "ed7618e0-7bde-4463-d731-22e7c3f7b659"
      },
      "execution_count": null,
      "outputs": [
        {
          "output_type": "execute_result",
          "data": {
            "text/plain": [
              "   Unnamed: 0  index                                               text  \\\n",
              "0           0    1.0  This post is also available in:      日本語 (Japa...   \n",
              "1           1    2.0  The attack vector is very basic and repeats it...   \n",
              "2           2    3.0  Once executed by the user the first stage malw...   \n",
              "3           3    4.0   The first known campaign was launched by Crim...   \n",
              "4           4    5.0  The first stage downloaded the ransomware from...   \n",
              "\n",
              "                                            entities relations Comments  \\\n",
              "0  [{'id': 45800, 'label': 'malware', 'start_offs...        []       []   \n",
              "1  [{'id': 48941, 'label': 'attack-pattern', 'sta...        []       []   \n",
              "2                                                 []        []       []   \n",
              "3  [{'id': 45806, 'label': 'TIME', 'start_offset'...        []       []   \n",
              "4                                                 []        []       []   \n",
              "\n",
              "        id           label  start_offset  end_offset  \n",
              "0  45800.0         malware         288.0       300.0  \n",
              "1  48941.0  attack-pattern          69.0       115.0  \n",
              "2      NaN             NaN           NaN         NaN  \n",
              "3  45806.0            TIME          55.0        68.0  \n",
              "4      NaN             NaN           NaN         NaN  "
            ],
            "text/html": [
              "\n",
              "  <div id=\"df-3e1fa75e-cae4-411e-882f-57c921e1d97e\" class=\"colab-df-container\">\n",
              "    <div>\n",
              "<style scoped>\n",
              "    .dataframe tbody tr th:only-of-type {\n",
              "        vertical-align: middle;\n",
              "    }\n",
              "\n",
              "    .dataframe tbody tr th {\n",
              "        vertical-align: top;\n",
              "    }\n",
              "\n",
              "    .dataframe thead th {\n",
              "        text-align: right;\n",
              "    }\n",
              "</style>\n",
              "<table border=\"1\" class=\"dataframe\">\n",
              "  <thead>\n",
              "    <tr style=\"text-align: right;\">\n",
              "      <th></th>\n",
              "      <th>Unnamed: 0</th>\n",
              "      <th>index</th>\n",
              "      <th>text</th>\n",
              "      <th>entities</th>\n",
              "      <th>relations</th>\n",
              "      <th>Comments</th>\n",
              "      <th>id</th>\n",
              "      <th>label</th>\n",
              "      <th>start_offset</th>\n",
              "      <th>end_offset</th>\n",
              "    </tr>\n",
              "  </thead>\n",
              "  <tbody>\n",
              "    <tr>\n",
              "      <th>0</th>\n",
              "      <td>0</td>\n",
              "      <td>1.0</td>\n",
              "      <td>This post is also available in:      日本語 (Japa...</td>\n",
              "      <td>[{'id': 45800, 'label': 'malware', 'start_offs...</td>\n",
              "      <td>[]</td>\n",
              "      <td>[]</td>\n",
              "      <td>45800.0</td>\n",
              "      <td>malware</td>\n",
              "      <td>288.0</td>\n",
              "      <td>300.0</td>\n",
              "    </tr>\n",
              "    <tr>\n",
              "      <th>1</th>\n",
              "      <td>1</td>\n",
              "      <td>2.0</td>\n",
              "      <td>The attack vector is very basic and repeats it...</td>\n",
              "      <td>[{'id': 48941, 'label': 'attack-pattern', 'sta...</td>\n",
              "      <td>[]</td>\n",
              "      <td>[]</td>\n",
              "      <td>48941.0</td>\n",
              "      <td>attack-pattern</td>\n",
              "      <td>69.0</td>\n",
              "      <td>115.0</td>\n",
              "    </tr>\n",
              "    <tr>\n",
              "      <th>2</th>\n",
              "      <td>2</td>\n",
              "      <td>3.0</td>\n",
              "      <td>Once executed by the user the first stage malw...</td>\n",
              "      <td>[]</td>\n",
              "      <td>[]</td>\n",
              "      <td>[]</td>\n",
              "      <td>NaN</td>\n",
              "      <td>NaN</td>\n",
              "      <td>NaN</td>\n",
              "      <td>NaN</td>\n",
              "    </tr>\n",
              "    <tr>\n",
              "      <th>3</th>\n",
              "      <td>3</td>\n",
              "      <td>4.0</td>\n",
              "      <td>The first known campaign was launched by Crim...</td>\n",
              "      <td>[{'id': 45806, 'label': 'TIME', 'start_offset'...</td>\n",
              "      <td>[]</td>\n",
              "      <td>[]</td>\n",
              "      <td>45806.0</td>\n",
              "      <td>TIME</td>\n",
              "      <td>55.0</td>\n",
              "      <td>68.0</td>\n",
              "    </tr>\n",
              "    <tr>\n",
              "      <th>4</th>\n",
              "      <td>4</td>\n",
              "      <td>5.0</td>\n",
              "      <td>The first stage downloaded the ransomware from...</td>\n",
              "      <td>[]</td>\n",
              "      <td>[]</td>\n",
              "      <td>[]</td>\n",
              "      <td>NaN</td>\n",
              "      <td>NaN</td>\n",
              "      <td>NaN</td>\n",
              "      <td>NaN</td>\n",
              "    </tr>\n",
              "  </tbody>\n",
              "</table>\n",
              "</div>\n",
              "    <div class=\"colab-df-buttons\">\n",
              "\n",
              "  <div class=\"colab-df-container\">\n",
              "    <button class=\"colab-df-convert\" onclick=\"convertToInteractive('df-3e1fa75e-cae4-411e-882f-57c921e1d97e')\"\n",
              "            title=\"Convert this dataframe to an interactive table.\"\n",
              "            style=\"display:none;\">\n",
              "\n",
              "  <svg xmlns=\"http://www.w3.org/2000/svg\" height=\"24px\" viewBox=\"0 -960 960 960\">\n",
              "    <path d=\"M120-120v-720h720v720H120Zm60-500h600v-160H180v160Zm220 220h160v-160H400v160Zm0 220h160v-160H400v160ZM180-400h160v-160H180v160Zm440 0h160v-160H620v160ZM180-180h160v-160H180v160Zm440 0h160v-160H620v160Z\"/>\n",
              "  </svg>\n",
              "    </button>\n",
              "\n",
              "  <style>\n",
              "    .colab-df-container {\n",
              "      display:flex;\n",
              "      gap: 12px;\n",
              "    }\n",
              "\n",
              "    .colab-df-convert {\n",
              "      background-color: #E8F0FE;\n",
              "      border: none;\n",
              "      border-radius: 50%;\n",
              "      cursor: pointer;\n",
              "      display: none;\n",
              "      fill: #1967D2;\n",
              "      height: 32px;\n",
              "      padding: 0 0 0 0;\n",
              "      width: 32px;\n",
              "    }\n",
              "\n",
              "    .colab-df-convert:hover {\n",
              "      background-color: #E2EBFA;\n",
              "      box-shadow: 0px 1px 2px rgba(60, 64, 67, 0.3), 0px 1px 3px 1px rgba(60, 64, 67, 0.15);\n",
              "      fill: #174EA6;\n",
              "    }\n",
              "\n",
              "    .colab-df-buttons div {\n",
              "      margin-bottom: 4px;\n",
              "    }\n",
              "\n",
              "    [theme=dark] .colab-df-convert {\n",
              "      background-color: #3B4455;\n",
              "      fill: #D2E3FC;\n",
              "    }\n",
              "\n",
              "    [theme=dark] .colab-df-convert:hover {\n",
              "      background-color: #434B5C;\n",
              "      box-shadow: 0px 1px 3px 1px rgba(0, 0, 0, 0.15);\n",
              "      filter: drop-shadow(0px 1px 2px rgba(0, 0, 0, 0.3));\n",
              "      fill: #FFFFFF;\n",
              "    }\n",
              "  </style>\n",
              "\n",
              "    <script>\n",
              "      const buttonEl =\n",
              "        document.querySelector('#df-3e1fa75e-cae4-411e-882f-57c921e1d97e button.colab-df-convert');\n",
              "      buttonEl.style.display =\n",
              "        google.colab.kernel.accessAllowed ? 'block' : 'none';\n",
              "\n",
              "      async function convertToInteractive(key) {\n",
              "        const element = document.querySelector('#df-3e1fa75e-cae4-411e-882f-57c921e1d97e');\n",
              "        const dataTable =\n",
              "          await google.colab.kernel.invokeFunction('convertToInteractive',\n",
              "                                                    [key], {});\n",
              "        if (!dataTable) return;\n",
              "\n",
              "        const docLinkHtml = 'Like what you see? Visit the ' +\n",
              "          '<a target=\"_blank\" href=https://colab.research.google.com/notebooks/data_table.ipynb>data table notebook</a>'\n",
              "          + ' to learn more about interactive tables.';\n",
              "        element.innerHTML = '';\n",
              "        dataTable['output_type'] = 'display_data';\n",
              "        await google.colab.output.renderOutput(dataTable, element);\n",
              "        const docLink = document.createElement('div');\n",
              "        docLink.innerHTML = docLinkHtml;\n",
              "        element.appendChild(docLink);\n",
              "      }\n",
              "    </script>\n",
              "  </div>\n",
              "\n",
              "\n",
              "<div id=\"df-cbc19df9-65f5-4c98-abd9-b533866c9b68\">\n",
              "  <button class=\"colab-df-quickchart\" onclick=\"quickchart('df-cbc19df9-65f5-4c98-abd9-b533866c9b68')\"\n",
              "            title=\"Suggest charts\"\n",
              "            style=\"display:none;\">\n",
              "\n",
              "<svg xmlns=\"http://www.w3.org/2000/svg\" height=\"24px\"viewBox=\"0 0 24 24\"\n",
              "     width=\"24px\">\n",
              "    <g>\n",
              "        <path d=\"M19 3H5c-1.1 0-2 .9-2 2v14c0 1.1.9 2 2 2h14c1.1 0 2-.9 2-2V5c0-1.1-.9-2-2-2zM9 17H7v-7h2v7zm4 0h-2V7h2v10zm4 0h-2v-4h2v4z\"/>\n",
              "    </g>\n",
              "</svg>\n",
              "  </button>\n",
              "\n",
              "<style>\n",
              "  .colab-df-quickchart {\n",
              "      --bg-color: #E8F0FE;\n",
              "      --fill-color: #1967D2;\n",
              "      --hover-bg-color: #E2EBFA;\n",
              "      --hover-fill-color: #174EA6;\n",
              "      --disabled-fill-color: #AAA;\n",
              "      --disabled-bg-color: #DDD;\n",
              "  }\n",
              "\n",
              "  [theme=dark] .colab-df-quickchart {\n",
              "      --bg-color: #3B4455;\n",
              "      --fill-color: #D2E3FC;\n",
              "      --hover-bg-color: #434B5C;\n",
              "      --hover-fill-color: #FFFFFF;\n",
              "      --disabled-bg-color: #3B4455;\n",
              "      --disabled-fill-color: #666;\n",
              "  }\n",
              "\n",
              "  .colab-df-quickchart {\n",
              "    background-color: var(--bg-color);\n",
              "    border: none;\n",
              "    border-radius: 50%;\n",
              "    cursor: pointer;\n",
              "    display: none;\n",
              "    fill: var(--fill-color);\n",
              "    height: 32px;\n",
              "    padding: 0;\n",
              "    width: 32px;\n",
              "  }\n",
              "\n",
              "  .colab-df-quickchart:hover {\n",
              "    background-color: var(--hover-bg-color);\n",
              "    box-shadow: 0 1px 2px rgba(60, 64, 67, 0.3), 0 1px 3px 1px rgba(60, 64, 67, 0.15);\n",
              "    fill: var(--button-hover-fill-color);\n",
              "  }\n",
              "\n",
              "  .colab-df-quickchart-complete:disabled,\n",
              "  .colab-df-quickchart-complete:disabled:hover {\n",
              "    background-color: var(--disabled-bg-color);\n",
              "    fill: var(--disabled-fill-color);\n",
              "    box-shadow: none;\n",
              "  }\n",
              "\n",
              "  .colab-df-spinner {\n",
              "    border: 2px solid var(--fill-color);\n",
              "    border-color: transparent;\n",
              "    border-bottom-color: var(--fill-color);\n",
              "    animation:\n",
              "      spin 1s steps(1) infinite;\n",
              "  }\n",
              "\n",
              "  @keyframes spin {\n",
              "    0% {\n",
              "      border-color: transparent;\n",
              "      border-bottom-color: var(--fill-color);\n",
              "      border-left-color: var(--fill-color);\n",
              "    }\n",
              "    20% {\n",
              "      border-color: transparent;\n",
              "      border-left-color: var(--fill-color);\n",
              "      border-top-color: var(--fill-color);\n",
              "    }\n",
              "    30% {\n",
              "      border-color: transparent;\n",
              "      border-left-color: var(--fill-color);\n",
              "      border-top-color: var(--fill-color);\n",
              "      border-right-color: var(--fill-color);\n",
              "    }\n",
              "    40% {\n",
              "      border-color: transparent;\n",
              "      border-right-color: var(--fill-color);\n",
              "      border-top-color: var(--fill-color);\n",
              "    }\n",
              "    60% {\n",
              "      border-color: transparent;\n",
              "      border-right-color: var(--fill-color);\n",
              "    }\n",
              "    80% {\n",
              "      border-color: transparent;\n",
              "      border-right-color: var(--fill-color);\n",
              "      border-bottom-color: var(--fill-color);\n",
              "    }\n",
              "    90% {\n",
              "      border-color: transparent;\n",
              "      border-bottom-color: var(--fill-color);\n",
              "    }\n",
              "  }\n",
              "</style>\n",
              "\n",
              "  <script>\n",
              "    async function quickchart(key) {\n",
              "      const quickchartButtonEl =\n",
              "        document.querySelector('#' + key + ' button');\n",
              "      quickchartButtonEl.disabled = true;  // To prevent multiple clicks.\n",
              "      quickchartButtonEl.classList.add('colab-df-spinner');\n",
              "      try {\n",
              "        const charts = await google.colab.kernel.invokeFunction(\n",
              "            'suggestCharts', [key], {});\n",
              "      } catch (error) {\n",
              "        console.error('Error during call to suggestCharts:', error);\n",
              "      }\n",
              "      quickchartButtonEl.classList.remove('colab-df-spinner');\n",
              "      quickchartButtonEl.classList.add('colab-df-quickchart-complete');\n",
              "    }\n",
              "    (() => {\n",
              "      let quickchartButtonEl =\n",
              "        document.querySelector('#df-cbc19df9-65f5-4c98-abd9-b533866c9b68 button');\n",
              "      quickchartButtonEl.style.display =\n",
              "        google.colab.kernel.accessAllowed ? 'block' : 'none';\n",
              "    })();\n",
              "  </script>\n",
              "</div>\n",
              "\n",
              "    </div>\n",
              "  </div>\n"
            ],
            "application/vnd.google.colaboratory.intrinsic+json": {
              "type": "dataframe",
              "variable_name": "df",
              "summary": "{\n  \"name\": \"df\",\n  \"rows\": 19940,\n  \"fields\": [\n    {\n      \"column\": \"Unnamed: 0\",\n      \"properties\": {\n        \"dtype\": \"number\",\n        \"std\": 2760,\n        \"min\": 0,\n        \"max\": 14408,\n        \"num_unique_values\": 9796,\n        \"samples\": [\n          96,\n          39,\n          5313\n        ],\n        \"semantic_type\": \"\",\n        \"description\": \"\"\n      }\n    },\n    {\n      \"column\": \"index\",\n      \"properties\": {\n        \"dtype\": \"number\",\n        \"std\": 4360.885197564452,\n        \"min\": 1.0,\n        \"max\": 14421.0,\n        \"num_unique_values\": 9732,\n        \"samples\": [\n          4971.0,\n          2245.0,\n          10480.0\n        ],\n        \"semantic_type\": \"\",\n        \"description\": \"\"\n      }\n    },\n    {\n      \"column\": \"text\",\n      \"properties\": {\n        \"dtype\": \"category\",\n        \"num_unique_values\": 8268,\n        \"samples\": [\n          \"However, users need to be protected from PUAs and malware that abuses the SMS-based IAP.\",\n          \"The victims can find the threat actor\\u2019s user name through specific group chat software or follow a chat group link in the ransom note.  Ransom payment operations are complicated and highly automated processes.\",\n          \"IMAP RAT  Trojan\"\n        ],\n        \"semantic_type\": \"\",\n        \"description\": \"\"\n      }\n    },\n    {\n      \"column\": \"entities\",\n      \"properties\": {\n        \"dtype\": \"category\",\n        \"num_unique_values\": 4732,\n        \"samples\": [\n          \"[{'id': 23459, 'label': 'location', 'start_offset': 17, 'end_offset': 25}, {'id': 23460, 'label': 'location', 'start_offset': 57, 'end_offset': 64}, {'id': 23461, 'label': 'location', 'start_offset': 65, 'end_offset': 68}, {'id': 23462, 'label': 'location', 'start_offset': 83, 'end_offset': 86}, {'id': 23463, 'label': 'location', 'start_offset': 101, 'end_offset': 104}, {'id': 23464, 'label': 'location', 'start_offset': 133, 'end_offset': 136}, {'id': 23465, 'label': 'location', 'start_offset': 137, 'end_offset': 142}, {'id': 23466, 'label': 'SHA2', 'start_offset': 225, 'end_offset': 289}, {'id': 23467, 'label': 'SHA2', 'start_offset': 290, 'end_offset': 354}, {'id': 23468, 'label': 'MD5', 'start_offset': 355, 'end_offset': 419}, {'id': 23469, 'label': 'SHA1', 'start_offset': 420, 'end_offset': 484}, {'id': 23470, 'label': 'MD5', 'start_offset': 485, 'end_offset': 549}, {'id': 23471, 'label': 'SHA2', 'start_offset': 550, 'end_offset': 614}, {'id': 23472, 'label': 'SHA2', 'start_offset': 615, 'end_offset': 679}, {'id': 23473, 'label': 'SHA2', 'start_offset': 680, 'end_offset': 744}, {'id': 23474, 'label': 'SHA1', 'start_offset': 745, 'end_offset': 809}, {'id': 23475, 'label': 'MD5', 'start_offset': 810, 'end_offset': 874}, {'id': 23476, 'label': 'SHA1', 'start_offset': 875, 'end_offset': 939}, {'id': 23477, 'label': 'MD5', 'start_offset': 940, 'end_offset': 1004}, {'id': 23478, 'label': 'SHA2', 'start_offset': 1005, 'end_offset': 1069}, {'id': 23479, 'label': 'SHA2', 'start_offset': 1070, 'end_offset': 1134}, {'id': 23480, 'label': 'SHA2', 'start_offset': 1135, 'end_offset': 1199}, {'id': 23481, 'label': 'SHA1', 'start_offset': 1200, 'end_offset': 1264}, {'id': 23482, 'label': 'SHA1', 'start_offset': 1265, 'end_offset': 1329}, {'id': 23483, 'label': 'MD5', 'start_offset': 1330, 'end_offset': 1394}, {'id': 23484, 'label': 'MD5', 'start_offset': 1395, 'end_offset': 1459}, {'id': 23485, 'label': 'SHA2', 'start_offset': 1460, 'end_offset': 1524}, {'id': 23486, 'label': 'SHA2', 'start_offset': 1525, 'end_offset': 1589}, {'id': 23487, 'label': 'SHA2', 'start_offset': 1590, 'end_offset': 1654}, {'id': 23488, 'label': 'SHA2', 'start_offset': 1692, 'end_offset': 1756}, {'id': 23489, 'label': 'SHA2', 'start_offset': 1757, 'end_offset': 1821}, {'id': 23490, 'label': 'SHA2', 'start_offset': 1822, 'end_offset': 1886}, {'id': 23491, 'label': 'SHA2', 'start_offset': 1887, 'end_offset': 1951}, {'id': 23492, 'label': 'SHA2', 'start_offset': 1952, 'end_offset': 2016}, {'id': 23493, 'label': 'SHA2', 'start_offset': 2017, 'end_offset': 2081}, {'id': 23494, 'label': 'SHA2', 'start_offset': 2082, 'end_offset': 2146}, {'id': 23495, 'label': 'SHA2', 'start_offset': 2147, 'end_offset': 2211}, {'id': 23496, 'label': 'SHA2', 'start_offset': 2212, 'end_offset': 2276}, {'id': 23497, 'label': 'SHA2', 'start_offset': 2277, 'end_offset': 2341}, {'id': 23498, 'label': 'SHA2', 'start_offset': 2342, 'end_offset': 2406}, {'id': 23499, 'label': 'SHA2', 'start_offset': 2407, 'end_offset': 2471}, {'id': 23500, 'label': 'SHA1', 'start_offset': 2472, 'end_offset': 2536}, {'id': 23501, 'label': 'SHA2', 'start_offset': 2537, 'end_offset': 2601}, {'id': 23502, 'label': 'MD5', 'start_offset': 2638, 'end_offset': 2702}, {'id': 23503, 'label': 'SHA1', 'start_offset': 2703, 'end_offset': 2767}, {'id': 23504, 'label': 'SHA2', 'start_offset': 2768, 'end_offset': 2832}, {'id': 23505, 'label': 'SHA2', 'start_offset': 2833, 'end_offset': 2897}, {'id': 23506, 'label': 'SHA2', 'start_offset': 2898, 'end_offset': 2962}, {'id': 23507, 'label': 'SHA1', 'start_offset': 2963, 'end_offset': 3027}, {'id': 23508, 'label': 'SHA2', 'start_offset': 3028, 'end_offset': 3092}, {'id': 23509, 'label': 'SHA2', 'start_offset': 3093, 'end_offset': 3157}, {'id': 23510, 'label': 'SHA2', 'start_offset': 3158, 'end_offset': 3222}, {'id': 23511, 'label': 'SHA2', 'start_offset': 3223, 'end_offset': 3287}, {'id': 23512, 'label': 'SHA2', 'start_offset': 3288, 'end_offset': 3352}, {'id': 23513, 'label': 'MD5', 'start_offset': 3353, 'end_offset': 3417}, {'id': 23514, 'label': 'SHA1', 'start_offset': 3418, 'end_offset': 3482}, {'id': 23515, 'label': 'SHA2', 'start_offset': 3483, 'end_offset': 3547}, {'id': 23516, 'label': 'SHA2', 'start_offset': 3548, 'end_offset': 3612}, {'id': 23517, 'label': 'SHA2', 'start_offset': 3613, 'end_offset': 3677}, {'id': 23518, 'label': 'SHA2', 'start_offset': 3678, 'end_offset': 3742}, {'id': 23519, 'label': 'SHA2', 'start_offset': 3743, 'end_offset': 3807}, {'id': 23520, 'label': 'SHA2', 'start_offset': 3808, 'end_offset': 3872}, {'id': 23521, 'label': 'SHA2', 'start_offset': 3873, 'end_offset': 3937}, {'id': 23522, 'label': 'SHA2', 'start_offset': 3938, 'end_offset': 4002}, {'id': 23523, 'label': 'SHA2', 'start_offset': 4003, 'end_offset': 4067}, {'id': 23524, 'label': 'SHA2', 'start_offset': 4068, 'end_offset': 4132}, {'id': 23525, 'label': 'SHA2', 'start_offset': 4133, 'end_offset': 4197}, {'id': 23526, 'label': 'SHA2', 'start_offset': 4234, 'end_offset': 4298}, {'id': 23527, 'label': 'location', 'start_offset': 4311, 'end_offset': 4314}, {'id': 23528, 'label': 'SHA2', 'start_offset': 4355, 'end_offset': 4419}, {'id': 23529, 'label': 'MD5', 'start_offset': 4420, 'end_offset': 4484}, {'id': 23530, 'label': 'SHA1', 'start_offset': 4485, 'end_offset': 4549}, {'id': 23531, 'label': 'location', 'start_offset': 4574, 'end_offset': 4577}]\",\n          \"[{'id': 46283, 'label': 'attack-pattern', 'start_offset': 55, 'end_offset': 76}, {'id': 46284, 'label': 'attack-pattern', 'start_offset': 81, 'end_offset': 99}]\",\n          \"[{'id': 40325, 'label': 'malware', 'start_offset': 0, 'end_offset': 5}, {'id': 40326, 'label': 'location', 'start_offset': 49, 'end_offset': 52}]\"\n        ],\n        \"semantic_type\": \"\",\n        \"description\": \"\"\n      }\n    },\n    {\n      \"column\": \"relations\",\n      \"properties\": {\n        \"dtype\": \"category\",\n        \"num_unique_values\": 481,\n        \"samples\": [\n          \"[{'id': 210, 'from_id': 46669, 'to_id': 3993, 'type': 'uses'}]\",\n          \"[{'id': 504, 'from_id': 48939, 'to_id': 48940, 'type': 'related-to'}]\",\n          \"[{'id': 1068, 'from_id': 51179, 'to_id': 51180, 'type': 'duplicate-of'}, {'id': 1069, 'from_id': 51181, 'to_id': 51180, 'type': 'has'}, {'id': 1070, 'from_id': 51178, 'to_id': 51180, 'type': 'exploits'}]\"\n        ],\n        \"semantic_type\": \"\",\n        \"description\": \"\"\n      }\n    },\n    {\n      \"column\": \"Comments\",\n      \"properties\": {\n        \"dtype\": \"category\",\n        \"num_unique_values\": 3,\n        \"samples\": [\n          \"[]\",\n          \"[{'id': 1, 'comment': 'exclude'}]\",\n          \"[{'id': 2, 'comment': 'Schau mal bitte dr\\u00fcber'}]\"\n        ],\n        \"semantic_type\": \"\",\n        \"description\": \"\"\n      }\n    },\n    {\n      \"column\": \"id\",\n      \"properties\": {\n        \"dtype\": \"number\",\n        \"std\": 13263.672722277744,\n        \"min\": 22.0,\n        \"max\": 51804.0,\n        \"num_unique_values\": 4731,\n        \"samples\": [\n          45558.0,\n          19173.0,\n          46133.0\n        ],\n        \"semantic_type\": \"\",\n        \"description\": \"\"\n      }\n    },\n    {\n      \"column\": \"label\",\n      \"properties\": {\n        \"dtype\": \"category\",\n        \"num_unique_values\": 22,\n        \"samples\": [\n          \"malware\",\n          \"IPV4\",\n          \"FILEPATH\"\n        ],\n        \"semantic_type\": \"\",\n        \"description\": \"\"\n      }\n    },\n    {\n      \"column\": \"start_offset\",\n      \"properties\": {\n        \"dtype\": \"number\",\n        \"std\": 53.37440821216017,\n        \"min\": 0.0,\n        \"max\": 669.0,\n        \"num_unique_values\": 259,\n        \"samples\": [\n          101.0,\n          29.0,\n          15.0\n        ],\n        \"semantic_type\": \"\",\n        \"description\": \"\"\n      }\n    },\n    {\n      \"column\": \"end_offset\",\n      \"properties\": {\n        \"dtype\": \"number\",\n        \"std\": 55.61136211416963,\n        \"min\": 2.0,\n        \"max\": 715.0,\n        \"num_unique_values\": 272,\n        \"samples\": [\n          141.0,\n          133.0,\n          101.0\n        ],\n        \"semantic_type\": \"\",\n        \"description\": \"\"\n      }\n    }\n  ]\n}"
            }
          },
          "metadata": {},
          "execution_count": 7
        }
      ]
    },
    {
      "cell_type": "code",
      "source": [
        "df.info()"
      ],
      "metadata": {
        "id": "uL0RmsnHxG7P",
        "colab": {
          "base_uri": "https://localhost:8080/"
        },
        "outputId": "8b7f5a00-8a8c-4010-f24f-5928a0437b24"
      },
      "execution_count": null,
      "outputs": [
        {
          "output_type": "stream",
          "name": "stdout",
          "text": [
            "<class 'pandas.core.frame.DataFrame'>\n",
            "RangeIndex: 19940 entries, 0 to 19939\n",
            "Data columns (total 10 columns):\n",
            " #   Column        Non-Null Count  Dtype  \n",
            "---  ------        --------------  -----  \n",
            " 0   Unnamed: 0    19940 non-null  int64  \n",
            " 1   index         19464 non-null  float64\n",
            " 2   text          19940 non-null  object \n",
            " 3   entities      19464 non-null  object \n",
            " 4   relations     19464 non-null  object \n",
            " 5   Comments      19464 non-null  object \n",
            " 6   id            9462 non-null   float64\n",
            " 7   label         9938 non-null   object \n",
            " 8   start_offset  9462 non-null   float64\n",
            " 9   end_offset    9462 non-null   float64\n",
            "dtypes: float64(4), int64(1), object(5)\n",
            "memory usage: 1.5+ MB\n"
          ]
        }
      ]
    },
    {
      "cell_type": "code",
      "source": [
        "df=df.drop(labels='Unnamed: 0',axis=1)"
      ],
      "metadata": {
        "id": "nhxFmd0qxG7P"
      },
      "execution_count": null,
      "outputs": []
    },
    {
      "cell_type": "code",
      "source": [
        "df['label'].fillna(value='benign', inplace=True)"
      ],
      "metadata": {
        "id": "DSCwop_NxG7Q",
        "colab": {
          "base_uri": "https://localhost:8080/"
        },
        "outputId": "62674f45-57ca-4a47-c722-67efb4ea540e"
      },
      "execution_count": null,
      "outputs": [
        {
          "output_type": "stream",
          "name": "stderr",
          "text": [
            "<ipython-input-10-de5cfd275a5e>:1: FutureWarning: A value is trying to be set on a copy of a DataFrame or Series through chained assignment using an inplace method.\n",
            "The behavior will change in pandas 3.0. This inplace method will never work because the intermediate object on which we are setting values always behaves as a copy.\n",
            "\n",
            "For example, when doing 'df[col].method(value, inplace=True)', try using 'df.method({col: value}, inplace=True)' or df[col] = df[col].method(value) instead, to perform the operation inplace on the original object.\n",
            "\n",
            "\n",
            "  df['label'].fillna(value='benign', inplace=True)\n"
          ]
        }
      ]
    },
    {
      "cell_type": "code",
      "source": [],
      "metadata": {
        "id": "Kbmz-_lQxG7Q"
      },
      "execution_count": null,
      "outputs": []
    },
    {
      "cell_type": "code",
      "source": [
        "df=df.fillna(0)"
      ],
      "metadata": {
        "id": "PJzDEScmxG7R"
      },
      "execution_count": null,
      "outputs": []
    },
    {
      "cell_type": "code",
      "source": [
        "df.info()"
      ],
      "metadata": {
        "id": "v7Dq40fPxG7R",
        "colab": {
          "base_uri": "https://localhost:8080/"
        },
        "outputId": "8916c804-590b-4447-8344-55479c136a2e"
      },
      "execution_count": null,
      "outputs": [
        {
          "output_type": "stream",
          "name": "stdout",
          "text": [
            "<class 'pandas.core.frame.DataFrame'>\n",
            "RangeIndex: 19940 entries, 0 to 19939\n",
            "Data columns (total 9 columns):\n",
            " #   Column        Non-Null Count  Dtype  \n",
            "---  ------        --------------  -----  \n",
            " 0   index         19940 non-null  float64\n",
            " 1   text          19940 non-null  object \n",
            " 2   entities      19940 non-null  object \n",
            " 3   relations     19940 non-null  object \n",
            " 4   Comments      19940 non-null  object \n",
            " 5   id            19940 non-null  float64\n",
            " 6   label         19940 non-null  object \n",
            " 7   start_offset  19940 non-null  float64\n",
            " 8   end_offset    19940 non-null  float64\n",
            "dtypes: float64(4), object(5)\n",
            "memory usage: 1.4+ MB\n"
          ]
        }
      ]
    },
    {
      "cell_type": "code",
      "source": [
        "df['label'].unique()"
      ],
      "metadata": {
        "id": "3HKtqYDExG7R",
        "colab": {
          "base_uri": "https://localhost:8080/"
        },
        "outputId": "28cf4b3a-7225-4812-f84a-a0604c2d0da8"
      },
      "execution_count": null,
      "outputs": [
        {
          "output_type": "execute_result",
          "data": {
            "text/plain": [
              "array(['malware', 'attack-pattern', 'benign', 'TIME', 'identity',\n",
              "       'SOFTWARE', 'threat-actor', 'location', 'tools', 'FILEPATH',\n",
              "       'SHA2', 'vulnerability', 'URL', 'DOMAIN', 'IPV4', 'campaign',\n",
              "       'EMAIL', 'REGISTRYKEY', 'SHA1', 'Infrastucture', 'MD5', 'url',\n",
              "       'hash'], dtype=object)"
            ]
          },
          "metadata": {},
          "execution_count": 13
        }
      ]
    },
    {
      "cell_type": "code",
      "source": [
        "data = df[['text','label']]"
      ],
      "metadata": {
        "id": "jv_NuzVsxG7S"
      },
      "execution_count": null,
      "outputs": []
    },
    {
      "cell_type": "code",
      "source": [
        "import nltk\n",
        "nltk.download('stopwords')"
      ],
      "metadata": {
        "colab": {
          "base_uri": "https://localhost:8080/"
        },
        "id": "_Hfw9fxyyYcs",
        "outputId": "40c68e9c-ef68-4c18-d799-27f313461531"
      },
      "execution_count": null,
      "outputs": [
        {
          "output_type": "stream",
          "name": "stderr",
          "text": [
            "[nltk_data] Downloading package stopwords to /root/nltk_data...\n",
            "[nltk_data]   Unzipping corpora/stopwords.zip.\n"
          ]
        },
        {
          "output_type": "execute_result",
          "data": {
            "text/plain": [
              "True"
            ]
          },
          "metadata": {},
          "execution_count": 16
        }
      ]
    },
    {
      "cell_type": "code",
      "source": [
        "lemmatizer = WordNetLemmatizer()\n",
        "\n",
        "stop_words = set(stopwords.words('english'))\n",
        "punctuations = set(string.punctuation)"
      ],
      "metadata": {
        "id": "Qo_PT24bxG7S"
      },
      "execution_count": null,
      "outputs": []
    },
    {
      "cell_type": "code",
      "source": [
        "def preprocess_text(text):\n",
        "    tokens = word_tokenize(text)\n",
        "\n",
        "    tokens = [token.lower() for token in tokens if token not in punctuations]\n",
        "\n",
        "    tokens = [lemmatizer.lemmatize(token) for token in tokens]\n",
        "\n",
        "    tokens = [token for token in tokens if token not in stop_words]\n",
        "\n",
        "    processed_text = ' '.join(tokens)\n",
        "\n",
        "    return processed_text"
      ],
      "metadata": {
        "id": "KxzIPeQzxG7S"
      },
      "execution_count": null,
      "outputs": []
    },
    {
      "cell_type": "code",
      "source": [
        "nltk.download('punkt_tab')"
      ],
      "metadata": {
        "colab": {
          "base_uri": "https://localhost:8080/"
        },
        "id": "TNIg06EIygy2",
        "outputId": "657e46e6-e243-4b8e-b19c-6736197d1570"
      },
      "execution_count": null,
      "outputs": [
        {
          "output_type": "stream",
          "name": "stderr",
          "text": [
            "[nltk_data] Downloading package punkt_tab to /root/nltk_data...\n",
            "[nltk_data]   Unzipping tokenizers/punkt_tab.zip.\n"
          ]
        },
        {
          "output_type": "execute_result",
          "data": {
            "text/plain": [
              "True"
            ]
          },
          "metadata": {},
          "execution_count": 20
        }
      ]
    },
    {
      "cell_type": "code",
      "source": [
        "nltk.download('wordnet')"
      ],
      "metadata": {
        "colab": {
          "base_uri": "https://localhost:8080/"
        },
        "id": "KlqxYXmxykxq",
        "outputId": "a4c20f67-fde2-4753-c37a-00cdc45fbe4a"
      },
      "execution_count": null,
      "outputs": [
        {
          "output_type": "stream",
          "name": "stderr",
          "text": [
            "[nltk_data] Downloading package wordnet to /root/nltk_data...\n"
          ]
        },
        {
          "output_type": "execute_result",
          "data": {
            "text/plain": [
              "True"
            ]
          },
          "metadata": {},
          "execution_count": 22
        }
      ]
    },
    {
      "cell_type": "code",
      "source": [
        "data['text_new'] = data['text'].apply(preprocess_text)"
      ],
      "metadata": {
        "id": "BCL_mKtdxG7T",
        "colab": {
          "base_uri": "https://localhost:8080/"
        },
        "outputId": "07021fe6-8941-4bd2-ce3e-f17dd52be2de"
      },
      "execution_count": null,
      "outputs": [
        {
          "output_type": "stream",
          "name": "stderr",
          "text": [
            "<ipython-input-23-dc3264fa6aec>:1: SettingWithCopyWarning: \n",
            "A value is trying to be set on a copy of a slice from a DataFrame.\n",
            "Try using .loc[row_indexer,col_indexer] = value instead\n",
            "\n",
            "See the caveats in the documentation: https://pandas.pydata.org/pandas-docs/stable/user_guide/indexing.html#returning-a-view-versus-a-copy\n",
            "  data['text_new'] = data['text'].apply(preprocess_text)\n"
          ]
        }
      ]
    },
    {
      "cell_type": "code",
      "source": [
        "data = data.drop(labels=['text'],axis=1)"
      ],
      "metadata": {
        "id": "C8RebPUixG7T"
      },
      "execution_count": null,
      "outputs": []
    },
    {
      "cell_type": "code",
      "source": [
        "data['text_new'] = data['text_new'].str.replace(r'[^a-zA-Z0-9\\s]', '', regex=True)"
      ],
      "metadata": {
        "id": "twDDvWMQxG7T"
      },
      "execution_count": null,
      "outputs": []
    },
    {
      "cell_type": "code",
      "source": [
        "data.head()"
      ],
      "metadata": {
        "id": "ZjSZkKn5xG7T",
        "colab": {
          "base_uri": "https://localhost:8080/",
          "height": 206
        },
        "outputId": "dcab7954-5e54-4c96-9692-1ee9f7dc4c55"
      },
      "execution_count": null,
      "outputs": [
        {
          "output_type": "execute_result",
          "data": {
            "text/plain": [
              "            label                                           text_new\n",
              "0         malware  post also available  japanese ctblocker wellkn...\n",
              "1  attack-pattern  attack vector basic repeat begin spear phishin...\n",
              "2          benign  executed user first stage malware downloads ex...\n",
              "3            TIME  first known campaign wa launched crimeware nov...\n",
              "4          benign             first stage downloaded ransomware site"
            ],
            "text/html": [
              "\n",
              "  <div id=\"df-10ea03fd-cf70-4c68-a4e3-88eb773dd8d3\" class=\"colab-df-container\">\n",
              "    <div>\n",
              "<style scoped>\n",
              "    .dataframe tbody tr th:only-of-type {\n",
              "        vertical-align: middle;\n",
              "    }\n",
              "\n",
              "    .dataframe tbody tr th {\n",
              "        vertical-align: top;\n",
              "    }\n",
              "\n",
              "    .dataframe thead th {\n",
              "        text-align: right;\n",
              "    }\n",
              "</style>\n",
              "<table border=\"1\" class=\"dataframe\">\n",
              "  <thead>\n",
              "    <tr style=\"text-align: right;\">\n",
              "      <th></th>\n",
              "      <th>label</th>\n",
              "      <th>text_new</th>\n",
              "    </tr>\n",
              "  </thead>\n",
              "  <tbody>\n",
              "    <tr>\n",
              "      <th>0</th>\n",
              "      <td>malware</td>\n",
              "      <td>post also available  japanese ctblocker wellkn...</td>\n",
              "    </tr>\n",
              "    <tr>\n",
              "      <th>1</th>\n",
              "      <td>attack-pattern</td>\n",
              "      <td>attack vector basic repeat begin spear phishin...</td>\n",
              "    </tr>\n",
              "    <tr>\n",
              "      <th>2</th>\n",
              "      <td>benign</td>\n",
              "      <td>executed user first stage malware downloads ex...</td>\n",
              "    </tr>\n",
              "    <tr>\n",
              "      <th>3</th>\n",
              "      <td>TIME</td>\n",
              "      <td>first known campaign wa launched crimeware nov...</td>\n",
              "    </tr>\n",
              "    <tr>\n",
              "      <th>4</th>\n",
              "      <td>benign</td>\n",
              "      <td>first stage downloaded ransomware site</td>\n",
              "    </tr>\n",
              "  </tbody>\n",
              "</table>\n",
              "</div>\n",
              "    <div class=\"colab-df-buttons\">\n",
              "\n",
              "  <div class=\"colab-df-container\">\n",
              "    <button class=\"colab-df-convert\" onclick=\"convertToInteractive('df-10ea03fd-cf70-4c68-a4e3-88eb773dd8d3')\"\n",
              "            title=\"Convert this dataframe to an interactive table.\"\n",
              "            style=\"display:none;\">\n",
              "\n",
              "  <svg xmlns=\"http://www.w3.org/2000/svg\" height=\"24px\" viewBox=\"0 -960 960 960\">\n",
              "    <path d=\"M120-120v-720h720v720H120Zm60-500h600v-160H180v160Zm220 220h160v-160H400v160Zm0 220h160v-160H400v160ZM180-400h160v-160H180v160Zm440 0h160v-160H620v160ZM180-180h160v-160H180v160Zm440 0h160v-160H620v160Z\"/>\n",
              "  </svg>\n",
              "    </button>\n",
              "\n",
              "  <style>\n",
              "    .colab-df-container {\n",
              "      display:flex;\n",
              "      gap: 12px;\n",
              "    }\n",
              "\n",
              "    .colab-df-convert {\n",
              "      background-color: #E8F0FE;\n",
              "      border: none;\n",
              "      border-radius: 50%;\n",
              "      cursor: pointer;\n",
              "      display: none;\n",
              "      fill: #1967D2;\n",
              "      height: 32px;\n",
              "      padding: 0 0 0 0;\n",
              "      width: 32px;\n",
              "    }\n",
              "\n",
              "    .colab-df-convert:hover {\n",
              "      background-color: #E2EBFA;\n",
              "      box-shadow: 0px 1px 2px rgba(60, 64, 67, 0.3), 0px 1px 3px 1px rgba(60, 64, 67, 0.15);\n",
              "      fill: #174EA6;\n",
              "    }\n",
              "\n",
              "    .colab-df-buttons div {\n",
              "      margin-bottom: 4px;\n",
              "    }\n",
              "\n",
              "    [theme=dark] .colab-df-convert {\n",
              "      background-color: #3B4455;\n",
              "      fill: #D2E3FC;\n",
              "    }\n",
              "\n",
              "    [theme=dark] .colab-df-convert:hover {\n",
              "      background-color: #434B5C;\n",
              "      box-shadow: 0px 1px 3px 1px rgba(0, 0, 0, 0.15);\n",
              "      filter: drop-shadow(0px 1px 2px rgba(0, 0, 0, 0.3));\n",
              "      fill: #FFFFFF;\n",
              "    }\n",
              "  </style>\n",
              "\n",
              "    <script>\n",
              "      const buttonEl =\n",
              "        document.querySelector('#df-10ea03fd-cf70-4c68-a4e3-88eb773dd8d3 button.colab-df-convert');\n",
              "      buttonEl.style.display =\n",
              "        google.colab.kernel.accessAllowed ? 'block' : 'none';\n",
              "\n",
              "      async function convertToInteractive(key) {\n",
              "        const element = document.querySelector('#df-10ea03fd-cf70-4c68-a4e3-88eb773dd8d3');\n",
              "        const dataTable =\n",
              "          await google.colab.kernel.invokeFunction('convertToInteractive',\n",
              "                                                    [key], {});\n",
              "        if (!dataTable) return;\n",
              "\n",
              "        const docLinkHtml = 'Like what you see? Visit the ' +\n",
              "          '<a target=\"_blank\" href=https://colab.research.google.com/notebooks/data_table.ipynb>data table notebook</a>'\n",
              "          + ' to learn more about interactive tables.';\n",
              "        element.innerHTML = '';\n",
              "        dataTable['output_type'] = 'display_data';\n",
              "        await google.colab.output.renderOutput(dataTable, element);\n",
              "        const docLink = document.createElement('div');\n",
              "        docLink.innerHTML = docLinkHtml;\n",
              "        element.appendChild(docLink);\n",
              "      }\n",
              "    </script>\n",
              "  </div>\n",
              "\n",
              "\n",
              "<div id=\"df-ce8ea0b8-41e6-4c1c-92a0-58974cfa51c6\">\n",
              "  <button class=\"colab-df-quickchart\" onclick=\"quickchart('df-ce8ea0b8-41e6-4c1c-92a0-58974cfa51c6')\"\n",
              "            title=\"Suggest charts\"\n",
              "            style=\"display:none;\">\n",
              "\n",
              "<svg xmlns=\"http://www.w3.org/2000/svg\" height=\"24px\"viewBox=\"0 0 24 24\"\n",
              "     width=\"24px\">\n",
              "    <g>\n",
              "        <path d=\"M19 3H5c-1.1 0-2 .9-2 2v14c0 1.1.9 2 2 2h14c1.1 0 2-.9 2-2V5c0-1.1-.9-2-2-2zM9 17H7v-7h2v7zm4 0h-2V7h2v10zm4 0h-2v-4h2v4z\"/>\n",
              "    </g>\n",
              "</svg>\n",
              "  </button>\n",
              "\n",
              "<style>\n",
              "  .colab-df-quickchart {\n",
              "      --bg-color: #E8F0FE;\n",
              "      --fill-color: #1967D2;\n",
              "      --hover-bg-color: #E2EBFA;\n",
              "      --hover-fill-color: #174EA6;\n",
              "      --disabled-fill-color: #AAA;\n",
              "      --disabled-bg-color: #DDD;\n",
              "  }\n",
              "\n",
              "  [theme=dark] .colab-df-quickchart {\n",
              "      --bg-color: #3B4455;\n",
              "      --fill-color: #D2E3FC;\n",
              "      --hover-bg-color: #434B5C;\n",
              "      --hover-fill-color: #FFFFFF;\n",
              "      --disabled-bg-color: #3B4455;\n",
              "      --disabled-fill-color: #666;\n",
              "  }\n",
              "\n",
              "  .colab-df-quickchart {\n",
              "    background-color: var(--bg-color);\n",
              "    border: none;\n",
              "    border-radius: 50%;\n",
              "    cursor: pointer;\n",
              "    display: none;\n",
              "    fill: var(--fill-color);\n",
              "    height: 32px;\n",
              "    padding: 0;\n",
              "    width: 32px;\n",
              "  }\n",
              "\n",
              "  .colab-df-quickchart:hover {\n",
              "    background-color: var(--hover-bg-color);\n",
              "    box-shadow: 0 1px 2px rgba(60, 64, 67, 0.3), 0 1px 3px 1px rgba(60, 64, 67, 0.15);\n",
              "    fill: var(--button-hover-fill-color);\n",
              "  }\n",
              "\n",
              "  .colab-df-quickchart-complete:disabled,\n",
              "  .colab-df-quickchart-complete:disabled:hover {\n",
              "    background-color: var(--disabled-bg-color);\n",
              "    fill: var(--disabled-fill-color);\n",
              "    box-shadow: none;\n",
              "  }\n",
              "\n",
              "  .colab-df-spinner {\n",
              "    border: 2px solid var(--fill-color);\n",
              "    border-color: transparent;\n",
              "    border-bottom-color: var(--fill-color);\n",
              "    animation:\n",
              "      spin 1s steps(1) infinite;\n",
              "  }\n",
              "\n",
              "  @keyframes spin {\n",
              "    0% {\n",
              "      border-color: transparent;\n",
              "      border-bottom-color: var(--fill-color);\n",
              "      border-left-color: var(--fill-color);\n",
              "    }\n",
              "    20% {\n",
              "      border-color: transparent;\n",
              "      border-left-color: var(--fill-color);\n",
              "      border-top-color: var(--fill-color);\n",
              "    }\n",
              "    30% {\n",
              "      border-color: transparent;\n",
              "      border-left-color: var(--fill-color);\n",
              "      border-top-color: var(--fill-color);\n",
              "      border-right-color: var(--fill-color);\n",
              "    }\n",
              "    40% {\n",
              "      border-color: transparent;\n",
              "      border-right-color: var(--fill-color);\n",
              "      border-top-color: var(--fill-color);\n",
              "    }\n",
              "    60% {\n",
              "      border-color: transparent;\n",
              "      border-right-color: var(--fill-color);\n",
              "    }\n",
              "    80% {\n",
              "      border-color: transparent;\n",
              "      border-right-color: var(--fill-color);\n",
              "      border-bottom-color: var(--fill-color);\n",
              "    }\n",
              "    90% {\n",
              "      border-color: transparent;\n",
              "      border-bottom-color: var(--fill-color);\n",
              "    }\n",
              "  }\n",
              "</style>\n",
              "\n",
              "  <script>\n",
              "    async function quickchart(key) {\n",
              "      const quickchartButtonEl =\n",
              "        document.querySelector('#' + key + ' button');\n",
              "      quickchartButtonEl.disabled = true;  // To prevent multiple clicks.\n",
              "      quickchartButtonEl.classList.add('colab-df-spinner');\n",
              "      try {\n",
              "        const charts = await google.colab.kernel.invokeFunction(\n",
              "            'suggestCharts', [key], {});\n",
              "      } catch (error) {\n",
              "        console.error('Error during call to suggestCharts:', error);\n",
              "      }\n",
              "      quickchartButtonEl.classList.remove('colab-df-spinner');\n",
              "      quickchartButtonEl.classList.add('colab-df-quickchart-complete');\n",
              "    }\n",
              "    (() => {\n",
              "      let quickchartButtonEl =\n",
              "        document.querySelector('#df-ce8ea0b8-41e6-4c1c-92a0-58974cfa51c6 button');\n",
              "      quickchartButtonEl.style.display =\n",
              "        google.colab.kernel.accessAllowed ? 'block' : 'none';\n",
              "    })();\n",
              "  </script>\n",
              "</div>\n",
              "\n",
              "    </div>\n",
              "  </div>\n"
            ],
            "application/vnd.google.colaboratory.intrinsic+json": {
              "type": "dataframe",
              "variable_name": "data",
              "summary": "{\n  \"name\": \"data\",\n  \"rows\": 19940,\n  \"fields\": [\n    {\n      \"column\": \"label\",\n      \"properties\": {\n        \"dtype\": \"category\",\n        \"num_unique_values\": 23,\n        \"samples\": [\n          \"campaign\",\n          \"FILEPATH\",\n          \"malware\"\n        ],\n        \"semantic_type\": \"\",\n        \"description\": \"\"\n      }\n    },\n    {\n      \"column\": \"text_new\",\n      \"properties\": {\n        \"dtype\": \"category\",\n        \"num_unique_values\": 8096,\n        \"samples\": [\n          \"framework like docker nodejs symfony django use env file store environment variable api token password database logins\",\n          \"although believed active since 2011 teamtnt stayed radar many year exploding onto scene 2020\",\n          \"upon successful infection malware start communicating html page repository stored github project\"\n        ],\n        \"semantic_type\": \"\",\n        \"description\": \"\"\n      }\n    }\n  ]\n}"
            }
          },
          "metadata": {},
          "execution_count": 26
        }
      ]
    },
    {
      "cell_type": "code",
      "source": [
        "data.shape"
      ],
      "metadata": {
        "id": "moXjgg-TxG7T",
        "colab": {
          "base_uri": "https://localhost:8080/"
        },
        "outputId": "5cc1773b-65ce-49c3-8e64-328f7ed97b7b"
      },
      "execution_count": null,
      "outputs": [
        {
          "output_type": "execute_result",
          "data": {
            "text/plain": [
              "(19940, 2)"
            ]
          },
          "metadata": {},
          "execution_count": 27
        }
      ]
    },
    {
      "cell_type": "code",
      "source": [
        "data.label.loc[(data['label']==\"MD5\") | (data['label']==\"REGISTRYKEY\") | (data['label']==\"EMAIL\") |  (data['label']==\"Infrastucture\") | (data['label']==\"DOMAIN\") | (data['label']==\"SHA1\") | (data['label']==\"IPV4\") | (data['label']==\"campaign\") | (data['label']==\"URL\") | (data['label']==\"SHA2\") | (data['label']==\"vulnerability\") | (data['label']==\"FILEPATH\") | (data['label']==\"tools\") | (data['label']==\"TIME\") | (data['label']==\"url\") | (data['label']==\"hash\") ] = \"NEED_ATTENTION\""
      ],
      "metadata": {
        "id": "Mgl6lleCxG7U",
        "colab": {
          "base_uri": "https://localhost:8080/"
        },
        "outputId": "80e96afd-496d-4633-f3b8-9ca4628827b3"
      },
      "execution_count": null,
      "outputs": [
        {
          "output_type": "stream",
          "name": "stderr",
          "text": [
            "<ipython-input-28-43e5f46344e0>:1: FutureWarning: ChainedAssignmentError: behaviour will change in pandas 3.0!\n",
            "You are setting values through chained assignment. Currently this works in certain cases, but when using Copy-on-Write (which will become the default behaviour in pandas 3.0) this will never work to update the original DataFrame or Series, because the intermediate object on which we are setting values will behave as a copy.\n",
            "A typical example is when you are setting values in a column of a DataFrame, like:\n",
            "\n",
            "df[\"col\"][row_indexer] = value\n",
            "\n",
            "Use `df.loc[row_indexer, \"col\"] = values` instead, to perform the assignment in a single step and ensure this keeps updating the original `df`.\n",
            "\n",
            "See the caveats in the documentation: https://pandas.pydata.org/pandas-docs/stable/user_guide/indexing.html#returning-a-view-versus-a-copy\n",
            "\n",
            "  data.label.loc[(data['label']==\"MD5\") | (data['label']==\"REGISTRYKEY\") | (data['label']==\"EMAIL\") |  (data['label']==\"Infrastucture\") | (data['label']==\"DOMAIN\") | (data['label']==\"SHA1\") | (data['label']==\"IPV4\") | (data['label']==\"campaign\") | (data['label']==\"URL\") | (data['label']==\"SHA2\") | (data['label']==\"vulnerability\") | (data['label']==\"FILEPATH\") | (data['label']==\"tools\") | (data['label']==\"TIME\") | (data['label']==\"url\") | (data['label']==\"hash\") ] = \"NEED_ATTENTION\"\n"
          ]
        }
      ]
    },
    {
      "cell_type": "code",
      "source": [
        "data['label'].value_counts()"
      ],
      "metadata": {
        "id": "NxK_HPTpxG7U",
        "colab": {
          "base_uri": "https://localhost:8080/",
          "height": 366
        },
        "outputId": "4717191e-b511-4738-9f9c-06c1c1f7cfe2"
      },
      "execution_count": null,
      "outputs": [
        {
          "output_type": "execute_result",
          "data": {
            "text/plain": [
              "label\n",
              "benign            10002\n",
              "NEED_ATTENTION     2132\n",
              "malware            1911\n",
              "location           1405\n",
              "SOFTWARE           1229\n",
              "attack-pattern     1206\n",
              "identity           1165\n",
              "threat-actor        890\n",
              "Name: count, dtype: int64"
            ],
            "text/html": [
              "<div>\n",
              "<style scoped>\n",
              "    .dataframe tbody tr th:only-of-type {\n",
              "        vertical-align: middle;\n",
              "    }\n",
              "\n",
              "    .dataframe tbody tr th {\n",
              "        vertical-align: top;\n",
              "    }\n",
              "\n",
              "    .dataframe thead th {\n",
              "        text-align: right;\n",
              "    }\n",
              "</style>\n",
              "<table border=\"1\" class=\"dataframe\">\n",
              "  <thead>\n",
              "    <tr style=\"text-align: right;\">\n",
              "      <th></th>\n",
              "      <th>count</th>\n",
              "    </tr>\n",
              "    <tr>\n",
              "      <th>label</th>\n",
              "      <th></th>\n",
              "    </tr>\n",
              "  </thead>\n",
              "  <tbody>\n",
              "    <tr>\n",
              "      <th>benign</th>\n",
              "      <td>10002</td>\n",
              "    </tr>\n",
              "    <tr>\n",
              "      <th>NEED_ATTENTION</th>\n",
              "      <td>2132</td>\n",
              "    </tr>\n",
              "    <tr>\n",
              "      <th>malware</th>\n",
              "      <td>1911</td>\n",
              "    </tr>\n",
              "    <tr>\n",
              "      <th>location</th>\n",
              "      <td>1405</td>\n",
              "    </tr>\n",
              "    <tr>\n",
              "      <th>SOFTWARE</th>\n",
              "      <td>1229</td>\n",
              "    </tr>\n",
              "    <tr>\n",
              "      <th>attack-pattern</th>\n",
              "      <td>1206</td>\n",
              "    </tr>\n",
              "    <tr>\n",
              "      <th>identity</th>\n",
              "      <td>1165</td>\n",
              "    </tr>\n",
              "    <tr>\n",
              "      <th>threat-actor</th>\n",
              "      <td>890</td>\n",
              "    </tr>\n",
              "  </tbody>\n",
              "</table>\n",
              "</div><br><label><b>dtype:</b> int64</label>"
            ]
          },
          "metadata": {},
          "execution_count": 29
        }
      ]
    },
    {
      "cell_type": "code",
      "source": [
        "data.label.value_counts()"
      ],
      "metadata": {
        "id": "ZeTkRYLUxG7U",
        "colab": {
          "base_uri": "https://localhost:8080/",
          "height": 366
        },
        "outputId": "e5988eb8-9e57-4536-818f-b636744bdd99"
      },
      "execution_count": null,
      "outputs": [
        {
          "output_type": "execute_result",
          "data": {
            "text/plain": [
              "label\n",
              "benign            10002\n",
              "NEED_ATTENTION     2132\n",
              "malware            1911\n",
              "location           1405\n",
              "SOFTWARE           1229\n",
              "attack-pattern     1206\n",
              "identity           1165\n",
              "threat-actor        890\n",
              "Name: count, dtype: int64"
            ],
            "text/html": [
              "<div>\n",
              "<style scoped>\n",
              "    .dataframe tbody tr th:only-of-type {\n",
              "        vertical-align: middle;\n",
              "    }\n",
              "\n",
              "    .dataframe tbody tr th {\n",
              "        vertical-align: top;\n",
              "    }\n",
              "\n",
              "    .dataframe thead th {\n",
              "        text-align: right;\n",
              "    }\n",
              "</style>\n",
              "<table border=\"1\" class=\"dataframe\">\n",
              "  <thead>\n",
              "    <tr style=\"text-align: right;\">\n",
              "      <th></th>\n",
              "      <th>count</th>\n",
              "    </tr>\n",
              "    <tr>\n",
              "      <th>label</th>\n",
              "      <th></th>\n",
              "    </tr>\n",
              "  </thead>\n",
              "  <tbody>\n",
              "    <tr>\n",
              "      <th>benign</th>\n",
              "      <td>10002</td>\n",
              "    </tr>\n",
              "    <tr>\n",
              "      <th>NEED_ATTENTION</th>\n",
              "      <td>2132</td>\n",
              "    </tr>\n",
              "    <tr>\n",
              "      <th>malware</th>\n",
              "      <td>1911</td>\n",
              "    </tr>\n",
              "    <tr>\n",
              "      <th>location</th>\n",
              "      <td>1405</td>\n",
              "    </tr>\n",
              "    <tr>\n",
              "      <th>SOFTWARE</th>\n",
              "      <td>1229</td>\n",
              "    </tr>\n",
              "    <tr>\n",
              "      <th>attack-pattern</th>\n",
              "      <td>1206</td>\n",
              "    </tr>\n",
              "    <tr>\n",
              "      <th>identity</th>\n",
              "      <td>1165</td>\n",
              "    </tr>\n",
              "    <tr>\n",
              "      <th>threat-actor</th>\n",
              "      <td>890</td>\n",
              "    </tr>\n",
              "  </tbody>\n",
              "</table>\n",
              "</div><br><label><b>dtype:</b> int64</label>"
            ]
          },
          "metadata": {},
          "execution_count": 30
        }
      ]
    },
    {
      "cell_type": "code",
      "source": [
        "data['text_new'][0]"
      ],
      "metadata": {
        "id": "Fe-5WaukxG7U",
        "colab": {
          "base_uri": "https://localhost:8080/",
          "height": 53
        },
        "outputId": "e1bf4711-79b2-457b-fd48-ef527e1aaffd"
      },
      "execution_count": null,
      "outputs": [
        {
          "output_type": "execute_result",
          "data": {
            "text/plain": [
              "'post also available  japanese ctblocker wellknown ransomware trojan used crimeware group encrypt file victim s endpoint demand ransom payment decrypt file back original state antiviruses detect mistake cryptolocker one vendor correctly detects ctblocker'"
            ],
            "application/vnd.google.colaboratory.intrinsic+json": {
              "type": "string"
            }
          },
          "metadata": {},
          "execution_count": 31
        }
      ]
    },
    {
      "cell_type": "code",
      "source": [
        "max_length = data['text_new'].str.len().max()\n",
        "max_length"
      ],
      "metadata": {
        "id": "mFOgXNe-xG7U",
        "colab": {
          "base_uri": "https://localhost:8080/"
        },
        "outputId": "d11883c4-a225-409a-db17-59df28b1b564"
      },
      "execution_count": null,
      "outputs": [
        {
          "output_type": "execute_result",
          "data": {
            "text/plain": [
              "4655"
            ]
          },
          "metadata": {},
          "execution_count": 32
        }
      ]
    },
    {
      "cell_type": "code",
      "source": [
        "max_length_tokens = data['text_new'].apply(lambda x: len(x.split())).max()"
      ],
      "metadata": {
        "id": "pxdpCgBYxG7U"
      },
      "execution_count": null,
      "outputs": []
    },
    {
      "cell_type": "code",
      "source": [
        "max_length_characters = data['text_new'].apply(lambda x: len(x)).max()\n",
        "\n",
        "print('Maximum Sequence Length (Tokens):', max_length_tokens)\n",
        "print('Maximum Sequence Length (Characters):', max_length_characters)"
      ],
      "metadata": {
        "id": "5qwwIVOexG7V",
        "colab": {
          "base_uri": "https://localhost:8080/"
        },
        "outputId": "5629c6ca-a579-41be-fb07-1404cced2d7a"
      },
      "execution_count": null,
      "outputs": [
        {
          "output_type": "stream",
          "name": "stdout",
          "text": [
            "Maximum Sequence Length (Tokens): 451\n",
            "Maximum Sequence Length (Characters): 4655\n"
          ]
        }
      ]
    },
    {
      "cell_type": "code",
      "source": [
        "MAX_NB_WORDS = 50000\n",
        "MAX_SEQ_LENGTH = 450\n",
        "EMBEDDING_DIM=100"
      ],
      "metadata": {
        "id": "VCpCUYdVxG7V"
      },
      "execution_count": null,
      "outputs": []
    },
    {
      "cell_type": "code",
      "source": [
        "data = data.rename(columns={'text_new': 'text'})"
      ],
      "metadata": {
        "id": "uq-kPz-6xG7V"
      },
      "execution_count": null,
      "outputs": []
    },
    {
      "cell_type": "code",
      "source": [
        "tokenizer = Tokenizer(num_words=MAX_NB_WORDS, filters='!\"#$%()*+,-./:;<=>?@[\\]^_`{|}',lower=True)\n",
        "tokenizer.fit_on_texts(data['text'].values)"
      ],
      "metadata": {
        "id": "fEOFaEM3xG7V"
      },
      "execution_count": null,
      "outputs": []
    },
    {
      "cell_type": "code",
      "source": [
        "word_index = tokenizer.word_index\n",
        "len(word_index)"
      ],
      "metadata": {
        "id": "nPtB7yujxG7V",
        "colab": {
          "base_uri": "https://localhost:8080/"
        },
        "outputId": "3c778090-da7f-4b6b-cc5d-f3e4e8160ac3"
      },
      "execution_count": null,
      "outputs": [
        {
          "output_type": "execute_result",
          "data": {
            "text/plain": [
              "11941"
            ]
          },
          "metadata": {},
          "execution_count": 38
        }
      ]
    },
    {
      "cell_type": "code",
      "source": [
        "X = tokenizer.texts_to_sequences(data['text'].values)\n",
        "X = pad_sequences(X,maxlen=MAX_SEQ_LENGTH)"
      ],
      "metadata": {
        "id": "LeA35khyxG7V"
      },
      "execution_count": null,
      "outputs": []
    },
    {
      "cell_type": "code",
      "source": [
        "X"
      ],
      "metadata": {
        "id": "TlX6IfiRxG7W",
        "colab": {
          "base_uri": "https://localhost:8080/"
        },
        "outputId": "9441d6b9-76cc-4ed0-9cef-baef9e3487b9"
      },
      "execution_count": null,
      "outputs": [
        {
          "output_type": "execute_result",
          "data": {
            "text/plain": [
              "array([[   0,    0,    0, ..., 1943, 1717, 4839],\n",
              "       [   0,    0,    0, ...,  342, 1916, 6563],\n",
              "       [   0,    0,    0, ...,  533,   18,  181],\n",
              "       ...,\n",
              "       [   0,    0,    0, ...,  257,    2,   18],\n",
              "       [   0,    0,    0, ..., 1375, 1828, 2239],\n",
              "       [   0,    0,    0, ...,   16,   26,   39]], dtype=int32)"
            ]
          },
          "metadata": {},
          "execution_count": 40
        }
      ]
    },
    {
      "cell_type": "code",
      "source": [
        "X.shape"
      ],
      "metadata": {
        "id": "HN2JYtByxG7W",
        "colab": {
          "base_uri": "https://localhost:8080/"
        },
        "outputId": "3947a867-f2b2-45c4-8ac9-c5c38ba0502c"
      },
      "execution_count": null,
      "outputs": [
        {
          "output_type": "execute_result",
          "data": {
            "text/plain": [
              "(19940, 450)"
            ]
          },
          "metadata": {},
          "execution_count": 41
        }
      ]
    },
    {
      "cell_type": "code",
      "source": [
        "Y = pd.get_dummies(data['label']).values"
      ],
      "metadata": {
        "id": "YAEUrLZ0xG7W"
      },
      "execution_count": null,
      "outputs": []
    },
    {
      "cell_type": "code",
      "source": [
        "from sklearn.preprocessing import LabelBinarizer\n",
        "# Perform one-hot encoding using LabelBinarizer\n",
        "lb = LabelBinarizer()\n",
        "Y = lb.fit_transform(data['label'])"
      ],
      "metadata": {
        "id": "IBFnD7nHxG7W"
      },
      "execution_count": null,
      "outputs": []
    },
    {
      "cell_type": "code",
      "source": [
        "Y"
      ],
      "metadata": {
        "id": "bw7UGBH5xG7X",
        "colab": {
          "base_uri": "https://localhost:8080/"
        },
        "outputId": "7b707377-179a-44a1-e379-7421102c7c2e"
      },
      "execution_count": null,
      "outputs": [
        {
          "output_type": "execute_result",
          "data": {
            "text/plain": [
              "array([[0, 0, 0, ..., 0, 1, 0],\n",
              "       [0, 0, 1, ..., 0, 0, 0],\n",
              "       [0, 0, 0, ..., 0, 0, 0],\n",
              "       ...,\n",
              "       [1, 0, 0, ..., 0, 0, 0],\n",
              "       [0, 0, 0, ..., 0, 0, 1],\n",
              "       [0, 0, 0, ..., 0, 1, 0]])"
            ]
          },
          "metadata": {},
          "execution_count": 44
        }
      ]
    },
    {
      "cell_type": "code",
      "source": [
        "Y.shape"
      ],
      "metadata": {
        "id": "WVYyjZWXxG7X",
        "colab": {
          "base_uri": "https://localhost:8080/"
        },
        "outputId": "cf37165f-f2f0-4fbe-f2db-a67f2bcea1b2"
      },
      "execution_count": null,
      "outputs": [
        {
          "output_type": "execute_result",
          "data": {
            "text/plain": [
              "(19940, 8)"
            ]
          },
          "metadata": {},
          "execution_count": 45
        }
      ]
    },
    {
      "cell_type": "code",
      "source": [
        "x_train, x_test, y_train, y_test = train_test_split(X,Y,test_size=0.20,random_state=42)"
      ],
      "metadata": {
        "id": "Xtb6MEN1xG7X"
      },
      "execution_count": null,
      "outputs": []
    },
    {
      "cell_type": "code",
      "source": [
        "model=Sequential()\n",
        "model.add(Embedding(MAX_NB_WORDS,EMBEDDING_DIM,input_length=X.shape[1]))\n",
        "model.add(LSTM(150,dropout=0.2,recurrent_dropout=0.2))\n",
        "model.add(Dense(50))\n",
        "model.add(Dropout(0.2))\n",
        "model.add(Dense(8,activation='softmax'))"
      ],
      "metadata": {
        "id": "cnTBsZEwxG7X",
        "colab": {
          "base_uri": "https://localhost:8080/"
        },
        "outputId": "23cfe317-3294-4567-d220-87837f755bdf"
      },
      "execution_count": null,
      "outputs": [
        {
          "output_type": "stream",
          "name": "stderr",
          "text": [
            "/usr/local/lib/python3.11/dist-packages/keras/src/layers/core/embedding.py:90: UserWarning: Argument `input_length` is deprecated. Just remove it.\n",
            "  warnings.warn(\n"
          ]
        }
      ]
    },
    {
      "cell_type": "code",
      "source": [
        "model.compile(loss='categorical_crossentropy', optimizer='adam', metrics=['accuracy'])\n"
      ],
      "metadata": {
        "id": "XPBIBa8yxG7e"
      },
      "execution_count": null,
      "outputs": []
    },
    {
      "cell_type": "code",
      "source": [
        "model.summary()"
      ],
      "metadata": {
        "id": "1Akh_ydDxG7e",
        "colab": {
          "base_uri": "https://localhost:8080/",
          "height": 298
        },
        "outputId": "66e3f29a-cce0-438f-b2a2-3ed749e82c33"
      },
      "execution_count": null,
      "outputs": [
        {
          "output_type": "display_data",
          "data": {
            "text/plain": [
              "\u001b[1mModel: \"sequential\"\u001b[0m\n"
            ],
            "text/html": [
              "<pre style=\"white-space:pre;overflow-x:auto;line-height:normal;font-family:Menlo,'DejaVu Sans Mono',consolas,'Courier New',monospace\"><span style=\"font-weight: bold\">Model: \"sequential\"</span>\n",
              "</pre>\n"
            ]
          },
          "metadata": {}
        },
        {
          "output_type": "display_data",
          "data": {
            "text/plain": [
              "┏━━━━━━━━━━━━━━━━━━━━━━━━━━━━━━━━━━━━━━┳━━━━━━━━━━━━━━━━━━━━━━━━━━━━━┳━━━━━━━━━━━━━━━━━┓\n",
              "┃\u001b[1m \u001b[0m\u001b[1mLayer (type)                        \u001b[0m\u001b[1m \u001b[0m┃\u001b[1m \u001b[0m\u001b[1mOutput Shape               \u001b[0m\u001b[1m \u001b[0m┃\u001b[1m \u001b[0m\u001b[1m        Param #\u001b[0m\u001b[1m \u001b[0m┃\n",
              "┡━━━━━━━━━━━━━━━━━━━━━━━━━━━━━━━━━━━━━━╇━━━━━━━━━━━━━━━━━━━━━━━━━━━━━╇━━━━━━━━━━━━━━━━━┩\n",
              "│ embedding (\u001b[38;5;33mEmbedding\u001b[0m)                │ ?                           │     \u001b[38;5;34m0\u001b[0m (unbuilt) │\n",
              "├──────────────────────────────────────┼─────────────────────────────┼─────────────────┤\n",
              "│ lstm (\u001b[38;5;33mLSTM\u001b[0m)                          │ ?                           │     \u001b[38;5;34m0\u001b[0m (unbuilt) │\n",
              "├──────────────────────────────────────┼─────────────────────────────┼─────────────────┤\n",
              "│ dense (\u001b[38;5;33mDense\u001b[0m)                        │ ?                           │     \u001b[38;5;34m0\u001b[0m (unbuilt) │\n",
              "├──────────────────────────────────────┼─────────────────────────────┼─────────────────┤\n",
              "│ dropout (\u001b[38;5;33mDropout\u001b[0m)                    │ ?                           │     \u001b[38;5;34m0\u001b[0m (unbuilt) │\n",
              "├──────────────────────────────────────┼─────────────────────────────┼─────────────────┤\n",
              "│ dense_1 (\u001b[38;5;33mDense\u001b[0m)                      │ ?                           │     \u001b[38;5;34m0\u001b[0m (unbuilt) │\n",
              "└──────────────────────────────────────┴─────────────────────────────┴─────────────────┘\n"
            ],
            "text/html": [
              "<pre style=\"white-space:pre;overflow-x:auto;line-height:normal;font-family:Menlo,'DejaVu Sans Mono',consolas,'Courier New',monospace\">┏━━━━━━━━━━━━━━━━━━━━━━━━━━━━━━━━━━━━━━┳━━━━━━━━━━━━━━━━━━━━━━━━━━━━━┳━━━━━━━━━━━━━━━━━┓\n",
              "┃<span style=\"font-weight: bold\"> Layer (type)                         </span>┃<span style=\"font-weight: bold\"> Output Shape                </span>┃<span style=\"font-weight: bold\">         Param # </span>┃\n",
              "┡━━━━━━━━━━━━━━━━━━━━━━━━━━━━━━━━━━━━━━╇━━━━━━━━━━━━━━━━━━━━━━━━━━━━━╇━━━━━━━━━━━━━━━━━┩\n",
              "│ embedding (<span style=\"color: #0087ff; text-decoration-color: #0087ff\">Embedding</span>)                │ ?                           │     <span style=\"color: #00af00; text-decoration-color: #00af00\">0</span> (unbuilt) │\n",
              "├──────────────────────────────────────┼─────────────────────────────┼─────────────────┤\n",
              "│ lstm (<span style=\"color: #0087ff; text-decoration-color: #0087ff\">LSTM</span>)                          │ ?                           │     <span style=\"color: #00af00; text-decoration-color: #00af00\">0</span> (unbuilt) │\n",
              "├──────────────────────────────────────┼─────────────────────────────┼─────────────────┤\n",
              "│ dense (<span style=\"color: #0087ff; text-decoration-color: #0087ff\">Dense</span>)                        │ ?                           │     <span style=\"color: #00af00; text-decoration-color: #00af00\">0</span> (unbuilt) │\n",
              "├──────────────────────────────────────┼─────────────────────────────┼─────────────────┤\n",
              "│ dropout (<span style=\"color: #0087ff; text-decoration-color: #0087ff\">Dropout</span>)                    │ ?                           │     <span style=\"color: #00af00; text-decoration-color: #00af00\">0</span> (unbuilt) │\n",
              "├──────────────────────────────────────┼─────────────────────────────┼─────────────────┤\n",
              "│ dense_1 (<span style=\"color: #0087ff; text-decoration-color: #0087ff\">Dense</span>)                      │ ?                           │     <span style=\"color: #00af00; text-decoration-color: #00af00\">0</span> (unbuilt) │\n",
              "└──────────────────────────────────────┴─────────────────────────────┴─────────────────┘\n",
              "</pre>\n"
            ]
          },
          "metadata": {}
        },
        {
          "output_type": "display_data",
          "data": {
            "text/plain": [
              "\u001b[1m Total params: \u001b[0m\u001b[38;5;34m0\u001b[0m (0.00 B)\n"
            ],
            "text/html": [
              "<pre style=\"white-space:pre;overflow-x:auto;line-height:normal;font-family:Menlo,'DejaVu Sans Mono',consolas,'Courier New',monospace\"><span style=\"font-weight: bold\"> Total params: </span><span style=\"color: #00af00; text-decoration-color: #00af00\">0</span> (0.00 B)\n",
              "</pre>\n"
            ]
          },
          "metadata": {}
        },
        {
          "output_type": "display_data",
          "data": {
            "text/plain": [
              "\u001b[1m Trainable params: \u001b[0m\u001b[38;5;34m0\u001b[0m (0.00 B)\n"
            ],
            "text/html": [
              "<pre style=\"white-space:pre;overflow-x:auto;line-height:normal;font-family:Menlo,'DejaVu Sans Mono',consolas,'Courier New',monospace\"><span style=\"font-weight: bold\"> Trainable params: </span><span style=\"color: #00af00; text-decoration-color: #00af00\">0</span> (0.00 B)\n",
              "</pre>\n"
            ]
          },
          "metadata": {}
        },
        {
          "output_type": "display_data",
          "data": {
            "text/plain": [
              "\u001b[1m Non-trainable params: \u001b[0m\u001b[38;5;34m0\u001b[0m (0.00 B)\n"
            ],
            "text/html": [
              "<pre style=\"white-space:pre;overflow-x:auto;line-height:normal;font-family:Menlo,'DejaVu Sans Mono',consolas,'Courier New',monospace\"><span style=\"font-weight: bold\"> Non-trainable params: </span><span style=\"color: #00af00; text-decoration-color: #00af00\">0</span> (0.00 B)\n",
              "</pre>\n"
            ]
          },
          "metadata": {}
        }
      ]
    },
    {
      "cell_type": "code",
      "source": [
        "model.save_weights(\"adaptivecyber.weights.h5\")\n",
        "print(\"Saved model to disk\")"
      ],
      "metadata": {
        "id": "SSbliTECxG7e",
        "colab": {
          "base_uri": "https://localhost:8080/"
        },
        "outputId": "e88b58d3-2592-4afc-f9b8-142f7b456032"
      },
      "execution_count": null,
      "outputs": [
        {
          "output_type": "stream",
          "name": "stdout",
          "text": [
            "Saved model to disk\n"
          ]
        }
      ]
    },
    {
      "cell_type": "code",
      "source": [
        "epochs=10\n",
        "batch_size=64\n",
        "history = model.fit(x_train, y_train, epochs=epochs, batch_size=batch_size,validation_split=0.2,callbacks=[EarlyStopping(monitor='val_loss', patience=3, min_delta=0.0001)])"
      ],
      "metadata": {
        "id": "KxcHse8txG7e",
        "colab": {
          "base_uri": "https://localhost:8080/"
        },
        "outputId": "43a728ef-1570-4548-8817-c110b97c9dda"
      },
      "execution_count": null,
      "outputs": [
        {
          "output_type": "stream",
          "name": "stdout",
          "text": [
            "Epoch 1/10\n",
            "\u001b[1m200/200\u001b[0m \u001b[32m━━━━━━━━━━━━━━━━━━━━\u001b[0m\u001b[37m\u001b[0m \u001b[1m258s\u001b[0m 1s/step - accuracy: 0.5066 - loss: 1.5664 - val_accuracy: 0.5873 - val_loss: 1.2321\n",
            "Epoch 2/10\n",
            "\u001b[1m200/200\u001b[0m \u001b[32m━━━━━━━━━━━━━━━━━━━━\u001b[0m\u001b[37m\u001b[0m \u001b[1m276s\u001b[0m 1s/step - accuracy: 0.6530 - loss: 1.0334 - val_accuracy: 0.7324 - val_loss: 0.8697\n",
            "Epoch 3/10\n",
            "\u001b[1m200/200\u001b[0m \u001b[32m━━━━━━━━━━━━━━━━━━━━\u001b[0m\u001b[37m\u001b[0m \u001b[1m314s\u001b[0m 1s/step - accuracy: 0.8338 - loss: 0.5487 - val_accuracy: 0.7991 - val_loss: 0.7140\n",
            "Epoch 4/10\n",
            "\u001b[1m200/200\u001b[0m \u001b[32m━━━━━━━━━━━━━━━━━━━━\u001b[0m\u001b[37m\u001b[0m \u001b[1m258s\u001b[0m 1s/step - accuracy: 0.9104 - loss: 0.3118 - val_accuracy: 0.8317 - val_loss: 0.6692\n",
            "Epoch 5/10\n",
            "\u001b[1m200/200\u001b[0m \u001b[32m━━━━━━━━━━━━━━━━━━━━\u001b[0m\u001b[37m\u001b[0m \u001b[1m254s\u001b[0m 1s/step - accuracy: 0.9402 - loss: 0.2084 - val_accuracy: 0.8424 - val_loss: 0.6524\n",
            "Epoch 6/10\n",
            "\u001b[1m200/200\u001b[0m \u001b[32m━━━━━━━━━━━━━━━━━━━━\u001b[0m\u001b[37m\u001b[0m \u001b[1m257s\u001b[0m 1s/step - accuracy: 0.9505 - loss: 0.1678 - val_accuracy: 0.8483 - val_loss: 0.6805\n",
            "Epoch 7/10\n",
            "\u001b[1m200/200\u001b[0m \u001b[32m━━━━━━━━━━━━━━━━━━━━\u001b[0m\u001b[37m\u001b[0m \u001b[1m259s\u001b[0m 1s/step - accuracy: 0.9583 - loss: 0.1381 - val_accuracy: 0.8527 - val_loss: 0.7249\n",
            "Epoch 8/10\n",
            "\u001b[1m200/200\u001b[0m \u001b[32m━━━━━━━━━━━━━━━━━━━━\u001b[0m\u001b[37m\u001b[0m \u001b[1m263s\u001b[0m 1s/step - accuracy: 0.9601 - loss: 0.1232 - val_accuracy: 0.8562 - val_loss: 0.7498\n"
          ]
        }
      ]
    },
    {
      "cell_type": "code",
      "source": [
        "accr = model.evaluate(x_test,y_test)\n",
        "print('Test set\\n  Loss: {:0.3f}\\n  Accuracy: {:0.3f}'.format(accr[0],accr[1]))"
      ],
      "metadata": {
        "id": "XRN1q7FdxG7e",
        "colab": {
          "base_uri": "https://localhost:8080/"
        },
        "outputId": "aaf5ea45-c793-4941-b0f0-71453288be7d"
      },
      "execution_count": null,
      "outputs": [
        {
          "output_type": "stream",
          "name": "stdout",
          "text": [
            "\u001b[1m125/125\u001b[0m \u001b[32m━━━━━━━━━━━━━━━━━━━━\u001b[0m\u001b[37m\u001b[0m \u001b[1m32s\u001b[0m 259ms/step - accuracy: 0.8516 - loss: 0.7190\n",
            "Test set\n",
            "  Loss: 0.711\n",
            "  Accuracy: 0.853\n"
          ]
        }
      ]
    },
    {
      "cell_type": "code",
      "source": [
        "predictions = model.predict(x_test)\n",
        "for i in range(5):\n",
        "    print('Prediction: {}'.format(predictions[i]))\n",
        "    print('Actual: {}'.format(y_test[i]))"
      ],
      "metadata": {
        "id": "WeZDB1V9xG7f",
        "colab": {
          "base_uri": "https://localhost:8080/"
        },
        "outputId": "c448fbae-8311-4b5f-83b8-1fd8438cbec9"
      },
      "execution_count": null,
      "outputs": [
        {
          "output_type": "stream",
          "name": "stdout",
          "text": [
            "\u001b[1m125/125\u001b[0m \u001b[32m━━━━━━━━━━━━━━━━━━━━\u001b[0m\u001b[37m\u001b[0m \u001b[1m36s\u001b[0m 283ms/step\n",
            "Prediction: [9.9561524e-01 1.4047916e-07 9.7498514e-08 7.0438100e-10 8.2367059e-08\n",
            " 1.4841838e-06 4.3828650e-03 2.4502829e-09]\n",
            "Actual: [1 0 0 0 0 0 0 0]\n",
            "Prediction: [2.0554842e-06 8.3164110e-08 4.6360778e-08 9.9997157e-01 2.7269332e-08\n",
            " 5.4985840e-08 2.6143343e-05 5.6605572e-08]\n",
            "Actual: [0 0 0 1 0 0 0 0]\n",
            "Prediction: [6.1786303e-04 1.9152141e-05 2.5426969e-05 5.5348529e-03 1.8430190e-05\n",
            " 1.9850779e-02 9.7321439e-01 7.1912410e-04]\n",
            "Actual: [0 0 0 0 0 0 1 0]\n",
            "Prediction: [3.2027535e-06 7.5927225e-04 3.5712452e-07 9.9923456e-01 7.6793975e-07\n",
            " 5.2757235e-07 1.1210591e-06 8.5707917e-08]\n",
            "Actual: [0 1 0 0 0 0 0 0]\n",
            "Prediction: [2.6411797e-06 1.3851857e-06 8.1749573e-07 9.9998957e-01 9.8400176e-07\n",
            " 9.9422344e-08 3.8314652e-06 7.5969257e-07]\n",
            "Actual: [0 0 0 1 0 0 0 0]\n"
          ]
        }
      ]
    },
    {
      "cell_type": "code",
      "source": [
        "import matplotlib.pyplot as plt"
      ],
      "metadata": {
        "id": "yzjuXW7xxG7f"
      },
      "execution_count": null,
      "outputs": []
    },
    {
      "cell_type": "code",
      "source": [
        "plt.title('Loss')\n",
        "plt.plot(history.history['loss'], label='train')\n",
        "plt.plot(history.history['val_loss'], label='test')\n",
        "plt.legend()\n",
        "plt.show();"
      ],
      "metadata": {
        "id": "HN0XmHWwxG7f",
        "colab": {
          "base_uri": "https://localhost:8080/",
          "height": 452
        },
        "outputId": "4ecca416-b080-4b94-8ae7-7a1833d5dd50"
      },
      "execution_count": null,
      "outputs": [
        {
          "output_type": "display_data",
          "data": {
            "text/plain": [
              "<Figure size 640x480 with 1 Axes>"
            ],
            "image/png": "[encoded data removed]"
          },
          "metadata": {}
        }
      ]
    },
    {
      "cell_type": "code",
      "source": [
        "y_pred = np.argmax(model.predict(x_test), axis=1)"
      ],
      "metadata": {
        "id": "Hg0qKzZ-xG7f",
        "colab": {
          "base_uri": "https://localhost:8080/"
        },
        "outputId": "d9d6b6ad-f380-4b81-fe42-b4f50bed5efd"
      },
      "execution_count": null,
      "outputs": [
        {
          "output_type": "stream",
          "name": "stdout",
          "text": [
            "\u001b[1m125/125\u001b[0m \u001b[32m━━━━━━━━━━━━━━━━━━━━\u001b[0m\u001b[37m\u001b[0m \u001b[1m40s\u001b[0m 324ms/step\n"
          ]
        }
      ]
    },
    {
      "cell_type": "code",
      "source": [
        "class_labels = lb.classes_\n",
        "\n",
        "print(class_labels)"
      ],
      "metadata": {
        "id": "UhprjP_6xG7g",
        "colab": {
          "base_uri": "https://localhost:8080/"
        },
        "outputId": "25b84807-daeb-4c4c-dff2-83aad72e8b75"
      },
      "execution_count": null,
      "outputs": [
        {
          "output_type": "stream",
          "name": "stdout",
          "text": [
            "['NEED_ATTENTION' 'SOFTWARE' 'attack-pattern' 'benign' 'identity'\n",
            " 'location' 'malware' 'threat-actor']\n"
          ]
        }
      ]
    },
    {
      "cell_type": "code",
      "source": [
        "import numpy as np\n",
        "import matplotlib.pyplot as plt\n",
        "import seaborn as sns\n",
        "from sklearn.metrics import confusion_matrix\n",
        "\n",
        "y_true = np.argmax(y_test, axis=1)\n",
        "y_pred = np.argmax(model.predict(x_test), axis=1)\n",
        "\n",
        "cm = confusion_matrix(y_true, y_pred)\n",
        "\n",
        "classes = np.arange(len(cm))\n",
        "\n",
        "plt.figure(figsize=(8, 6))\n",
        "sns.heatmap(cm, annot=True, fmt='d', cmap='Blues', xticklabels=class_labels, yticklabels=class_labels)\n",
        "plt.title('Confusion Matrix')\n",
        "plt.xlabel('Predicted Label')\n",
        "plt.ylabel('True Label')\n",
        "plt.show()"
      ],
      "metadata": {
        "id": "vLpc5HotxG7g",
        "colab": {
          "base_uri": "https://localhost:8080/",
          "height": 692
        },
        "outputId": "b63cf5e4-8ab6-491a-8692-b2d0ea74da02"
      },
      "execution_count": null,
      "outputs": [
        {
          "output_type": "stream",
          "name": "stdout",
          "text": [
            "\u001b[1m125/125\u001b[0m \u001b[32m━━━━━━━━━━━━━━━━━━━━\u001b[0m\u001b[37m\u001b[0m \u001b[1m39s\u001b[0m 314ms/step\n"
          ]
        },
        {
          "output_type": "display_data",
          "data": {
            "text/plain": [
              "<Figure size 800x600 with 2 Axes>"
            ],
            "image/png": "[encoded data removed]"
          },
          "metadata": {}
        }
      ]
    },
    {
      "cell_type": "code",
      "source": [
        "print('hi')"
      ],
      "metadata": {
        "id": "TC_R4106xG7g",
        "colab": {
          "base_uri": "https://localhost:8080/"
        },
        "outputId": "14b2f8ca-569e-45bf-a0e8-7453a3f14adb"
      },
      "execution_count": null,
      "outputs": [
        {
          "output_type": "stream",
          "name": "stdout",
          "text": [
            "hi\n"
          ]
        }
      ]
    },
    {
      "cell_type": "code",
      "source": [
        "accuracy = (cm.diagonal().sum()) / cm.sum()\n",
        "accuracy"
      ],
      "metadata": {
        "id": "8Jty1E1fxG7g",
        "colab": {
          "base_uri": "https://localhost:8080/"
        },
        "outputId": "4ad22b0a-a94a-422a-8f48-bcbc77cf9407"
      },
      "execution_count": null,
      "outputs": [
        {
          "output_type": "execute_result",
          "data": {
            "text/plain": [
              "0.8533099297893681"
            ]
          },
          "metadata": {},
          "execution_count": 61
        }
      ]
    },
    {
      "cell_type": "code",
      "source": [
        "precision = cm.diagonal() / cm.sum(axis=0)\n",
        "precision"
      ],
      "metadata": {
        "id": "VhYKZi1TxG7g",
        "colab": {
          "base_uri": "https://localhost:8080/"
        },
        "outputId": "da600d16-4351-48c5-d1fe-c8026dac3e48"
      },
      "execution_count": null,
      "outputs": [
        {
          "output_type": "execute_result",
          "data": {
            "text/plain": [
              "array([0.74938575, 0.83333333, 0.78423237, 0.90917874, 0.83482143,\n",
              "       0.74632353, 0.82706767, 0.8042328 ])"
            ]
          },
          "metadata": {},
          "execution_count": 62
        }
      ]
    },
    {
      "cell_type": "code",
      "source": [
        "recall = cm.diagonal() / cm.sum(axis=1)\n",
        "recall"
      ],
      "metadata": {
        "id": "aFn884OqxG7h",
        "colab": {
          "base_uri": "https://localhost:8080/"
        },
        "outputId": "6248c677-a274-4845-fe42-cb4647fc561c"
      },
      "execution_count": null,
      "outputs": [
        {
          "output_type": "execute_result",
          "data": {
            "text/plain": [
              "array([0.77806122, 0.6352459 , 0.75      , 0.93818544, 0.73622047,\n",
              "       0.76893939, 0.85051546, 0.80851064])"
            ]
          },
          "metadata": {},
          "execution_count": 63
        }
      ]
    },
    {
      "cell_type": "code",
      "source": [
        "f1_score = 2 * (precision * recall) / (precision + recall)\n",
        "f1_score"
      ],
      "metadata": {
        "id": "dYBE1SiYxG7h",
        "colab": {
          "base_uri": "https://localhost:8080/"
        },
        "outputId": "186b4947-e4c5-47c1-920a-8164716f1ede"
      },
      "execution_count": null,
      "outputs": [
        {
          "output_type": "execute_result",
          "data": {
            "text/plain": [
              "array([0.76345432, 0.72093023, 0.76673428, 0.92345437, 0.78242678,\n",
              "       0.75746269, 0.8386277 , 0.80636605])"
            ]
          },
          "metadata": {},
          "execution_count": 64
        }
      ]
    },
    {
      "cell_type": "code",
      "source": [
        "import matplotlib.pyplot as plt\n",
        "\n",
        "def plot_graphs(history, string):\n",
        "  plt.plot(history.history[string])\n",
        "  plt.plot(history.history['val_'+string])\n",
        "  plt.xlabel(\"Epochs\")\n",
        "  plt.ylabel(string)\n",
        "  plt.legend([string, 'val_'+string])\n",
        "  plt.show()\n",
        "\n",
        "plot_graphs(history, \"accuracy\")\n",
        "plot_graphs(history, \"loss\")"
      ],
      "metadata": {
        "id": "9eR0bwYjxG7h",
        "colab": {
          "base_uri": "https://localhost:8080/",
          "height": 881
        },
        "outputId": "19966007-ae38-4b2a-bd63-db05dcf98f71"
      },
      "execution_count": null,
      "outputs": [
        {
          "output_type": "display_data",
          "data": {
            "text/plain": [
              "<Figure size 640x480 with 1 Axes>"
            ],
            "image/png": "[encoded data removed]"
          },
          "metadata": {}
        },
        {
          "output_type": "display_data",
          "data": {
            "text/plain": [
              "<Figure size 640x480 with 1 Axes>"
            ],
            "image/png": "[encoded data removed]"
          },
          "metadata": {}
        }
      ]
    },
    {
      "cell_type": "code",
      "source": [
        "# import matplotlib.pyplot as plt\n",
        "# from keras.models import Sequential\n",
        "# from keras.layers import Embedding, LSTM, Dropout, Dense\n",
        "\n",
        "# # Create the model\n",
        "# model = Sequential()\n",
        "# model.add(Embedding(MAX_NB_WORDS, EMBEDDING_DIM, input_length=X.shape[1]))\n",
        "# model.add(LSTM(150, dropout=0.2, recurrent_dropout=0.2))\n",
        "# model.add(Dropout(0.2))\n",
        "# model.add(Dense(8, activation='softmax'))\n",
        "\n",
        "# # Function to plot the model diagram\n",
        "# def plot_model_diagram(model):\n",
        "#     layer_names = [layer.__class__.__name__ for layer in model.layers]\n",
        "#     output_shapes = [layer.output_shape[1:] for layer in model.layers]\n",
        "\n",
        "#     plt.figure(figsize=(5, 5))\n",
        "#     plt.title(\"Model Diagram\")\n",
        "#     plt.xlabel(\"Layers\")\n",
        "#     plt.ylabel(\"Output Shapes\")\n",
        "\n",
        "#     for i, (layer_name, output_shape) in enumerate(zip(layer_names, output_shapes)):\n",
        "#         output_shape_str = str(output_shape).replace(\",\", \"x\").replace(\"(\", \"\").replace(\")\", \"\")\n",
        "\n",
        "#         plt.text(0.5, i, f\"{layer_name}\\n{output_shape_str}\",\n",
        "#                  horizontalalignment='center',\n",
        "#                  verticalalignment='center',\n",
        "#                  bbox=dict(facecolor='white', edgecolor='black', boxstyle='round,pad=0.3'))\n",
        "\n",
        "#     plt.yticks(range(len(layer_names)), layer_names)\n",
        "#     plt.xticks([])\n",
        "#     plt.ylim(len(layer_names) - 0.5, -0.5)  # Reverse y-axis\n",
        "#     plt.tight_layout()\n",
        "#     plt.show()\n",
        "\n",
        "# # Generate the model diagram\n",
        "# plot_model_diagram(model)\n"
      ],
      "metadata": {
        "id": "VkseHylhxG7h"
      },
      "execution_count": null,
      "outputs": []
    },
    {
      "cell_type": "code",
      "source": [
        "\n",
        "from google.colab import drive\n",
        "drive.mount('/content/drive')\n",
        "\n",
        "# Save the model architecture and weights to Google Drive\n",
        "model.save('/content/drive/My Drive/cyber_threat_detection_model.h5')\n",
        "print(\"Saved model to Google Drive\")"
      ],
      "metadata": {
        "colab": {
          "base_uri": "https://localhost:8080/"
        },
        "id": "_J_iquLG0aW7",
        "outputId": "7dd5dd4c-d7d7-4e95-f8a4-d26430d4cdae"
      },
      "execution_count": null,
      "outputs": [
        {
          "output_type": "stream",
          "name": "stderr",
          "text": [
            "WARNING:absl:You are saving your model as an HDF5 file via `model.save()` or `keras.saving.save_model(model)`. This file format is considered legacy. We recommend using instead the native Keras format, e.g. `model.save('my_model.keras')` or `keras.saving.save_model(model, 'my_model.keras')`. \n"
          ]
        },
        {
          "output_type": "stream",
          "name": "stdout",
          "text": [
            "Drive already mounted at /content/drive; to attempt to forcibly remount, call drive.mount(\"/content/drive\", force_remount=True).\n",
            "Saved model to Google Drive\n"
          ]
        }
      ]
    },
    {
      "cell_type": "code",
      "source": [],
      "metadata": {
        "id": "gdGDYG_Q7Wd9"
      },
      "execution_count": null,
      "outputs": []
    },
    {
      "cell_type": "markdown",
      "source": [
        "# new fit"
      ],
      "metadata": {
        "id": "487bRLd_xG7h"
      }
    },
    {
      "cell_type": "code",
      "source": [
        "model1=Sequential()\n",
        "model1.add(Embedding(MAX_NB_WORDS,EMBEDDING_DIM,input_length=X.shape[1]))\n",
        "model1.add(LSTM(150,dropout=0.2,recurrent_dropout=0.2))\n",
        "model1.add(Dropout(0.2))\n",
        "model1.add(Dense(64, activation='relu'))\n",
        "model1.add(Dense(8,activation='softmax'))"
      ],
      "metadata": {
        "id": "l782Ad_cxG7j"
      },
      "execution_count": null,
      "outputs": []
    },
    {
      "cell_type": "code",
      "source": [
        "model1.compile(loss='categorical_crossentropy', optimizer='adam', metrics=['accuracy'])"
      ],
      "metadata": {
        "id": "nza_kB_1xG7j"
      },
      "execution_count": null,
      "outputs": []
    },
    {
      "cell_type": "code",
      "source": [
        "model1.summary()"
      ],
      "metadata": {
        "id": "SMsBr0jlxG7j"
      },
      "execution_count": null,
      "outputs": []
    },
    {
      "cell_type": "code",
      "source": [
        "epochs=15\n",
        "batch_size=75\n",
        "history = model1.fit(x_train, y_train, epochs=epochs, batch_size=batch_size,validation_split=0.2,callbacks=[EarlyStopping(monitor='val_loss', patience=3, min_delta=0.0001)])"
      ],
      "metadata": {
        "id": "zk2wJF2kxG7k"
      },
      "execution_count": null,
      "outputs": []
    },
    {
      "cell_type": "code",
      "source": [
        "accr = model.evaluate(x_test,y_test)\n",
        "print('Test set\\n  Loss: {:0.3f}\\n  Accuracy: {:0.3f}'.format(accr[0],accr[1]))"
      ],
      "metadata": {
        "id": "KGSVOSnFxG7k"
      },
      "execution_count": null,
      "outputs": []
    },
    {
      "cell_type": "code",
      "source": [
        "plt.title('Loss')\n",
        "plt.plot(history.history['loss'], label='train')\n",
        "plt.plot(history.history['val_loss'], label='test')\n",
        "plt.legend()\n",
        "plt.show();"
      ],
      "metadata": {
        "id": "StSv6uqkxG7k"
      },
      "execution_count": null,
      "outputs": []
    },
    {
      "cell_type": "code",
      "source": [
        "y_pred = np.argmax(model.predict(x_test), axis=1)"
      ],
      "metadata": {
        "id": "QQ9KDADNxG7k"
      },
      "execution_count": null,
      "outputs": []
    },
    {
      "cell_type": "code",
      "source": [
        "accuracy = (cm.diagonal().sum()) / cm.sum()\n",
        "accuracy"
      ],
      "metadata": {
        "id": "Y2DttDaHxG7l"
      },
      "execution_count": null,
      "outputs": []
    },
    {
      "cell_type": "code",
      "source": [
        "precision = cm.diagonal() / cm.sum(axis=0)\n",
        "precision"
      ],
      "metadata": {
        "id": "gaIYbk8PxG7l"
      },
      "execution_count": null,
      "outputs": []
    },
    {
      "cell_type": "code",
      "source": [
        "recall = cm.diagonal() / cm.sum(axis=1)\n",
        "recall"
      ],
      "metadata": {
        "id": "xssshwHPxG7l"
      },
      "execution_count": null,
      "outputs": []
    },
    {
      "cell_type": "code",
      "source": [
        "f1_score = 2 * (precision * recall) / (precision + recall)\n",
        "f1_score"
      ],
      "metadata": {
        "id": "3H8407LCxG7l"
      },
      "execution_count": null,
      "outputs": []
    },
    {
      "cell_type": "code",
      "source": [
        "class_labels = lb.classes_\n",
        "\n",
        "print(class_labels)"
      ],
      "metadata": {
        "id": "eyP1XTnuxG7l"
      },
      "execution_count": null,
      "outputs": []
    },
    {
      "cell_type": "code",
      "source": [],
      "metadata": {
        "id": "YD7WNZVexG7m"
      },
      "execution_count": null,
      "outputs": []
    },
    {
      "cell_type": "code",
      "source": [
        "import numpy as np\n",
        "import matplotlib.pyplot as plt\n",
        "import seaborn as sns\n",
        "from sklearn.metrics import confusion_matrix\n",
        "\n",
        "y_true = np.argmax(y_test, axis=1)\n",
        "y_pred = np.argmax(model.predict(x_test), axis=1)\n",
        "\n",
        "cm1 = confusion_matrix(y_true, y_pred)\n",
        "\n",
        "classes = np.arange(len(cm))\n",
        "\n",
        "plt.figure(figsize=(8, 6))\n",
        "sns.heatmap(cm1, annot=True, fmt='d', cmap='Blues', xticklabels=class_labels, yticklabels=class_labels)\n",
        "plt.title('Confusion Matrix')\n",
        "plt.xlabel('Predicted Label')\n",
        "plt.ylabel('True Label')\n",
        "plt.show()"
      ],
      "metadata": {
        "id": "7WwRJLzOxG7m"
      },
      "execution_count": null,
      "outputs": []
    },
    {
      "cell_type": "code",
      "source": [
        "y_pred.shape"
      ],
      "metadata": {
        "id": "8qQuJHryxG7m"
      },
      "execution_count": null,
      "outputs": []
    },
    {
      "cell_type": "code",
      "source": [
        "y_true.shape"
      ],
      "metadata": {
        "id": "RJlyYzsjxG7m"
      },
      "execution_count": null,
      "outputs": []
    },
    {
      "cell_type": "code",
      "source": [
        "accuracy = (cm.diagonal().sum()) / cm.sum()\n",
        "accuracy"
      ],
      "metadata": {
        "id": "mdHV2-LExG7n"
      },
      "execution_count": null,
      "outputs": []
    },
    {
      "cell_type": "code",
      "source": [
        "precision = cm.diagonal() / cm.sum(axis=0)\n",
        "precision"
      ],
      "metadata": {
        "id": "qVGWZITpxG7n"
      },
      "execution_count": null,
      "outputs": []
    },
    {
      "cell_type": "code",
      "source": [
        "recall = cm.diagonal() / cm.sum(axis=1)\n",
        "recall"
      ],
      "metadata": {
        "id": "VnQp6g3RxG7n"
      },
      "execution_count": null,
      "outputs": []
    },
    {
      "cell_type": "code",
      "source": [
        "f1_score = 2 * (precision * recall) / (precision + recall)\n",
        "f1_score"
      ],
      "metadata": {
        "id": "mdZxDaLixG7n"
      },
      "execution_count": null,
      "outputs": []
    },
    {
      "cell_type": "code",
      "source": [
        "class_labels = lb.classes_\n",
        "\n",
        "print(class_labels)"
      ],
      "metadata": {
        "id": "eHTiP5TpxG7n"
      },
      "execution_count": null,
      "outputs": []
    },
    {
      "cell_type": "code",
      "source": [
        "plt.title('Loss')\n",
        "plt.plot(history.history['loss'], label='train')\n",
        "plt.plot(history.history['val_loss'], label='test')\n",
        "plt.legend()\n",
        "plt.show();"
      ],
      "metadata": {
        "id": "dW_DthYfxG7o"
      },
      "execution_count": null,
      "outputs": []
    },
    {
      "cell_type": "code",
      "source": [
        "import matplotlib.pyplot as plt\n",
        "\n",
        "def plot_graphs(history, string):\n",
        "  plt.plot(history.history[string])\n",
        "  plt.plot(history.history['val_'+string])\n",
        "  plt.xlabel(\"Epochs\")\n",
        "  plt.ylabel(string)\n",
        "  plt.legend([string, 'val_'+string])\n",
        "  plt.show()\n",
        "\n",
        "plot_graphs(history, \"accuracy\")\n",
        "plot_graphs(history, \"loss\")"
      ],
      "metadata": {
        "id": "NAuRZI74xG7o"
      },
      "execution_count": null,
      "outputs": []
    },
    {
      "cell_type": "code",
      "source": [],
      "metadata": {
        "id": "65Lf0Q-axG7p"
      },
      "execution_count": null,
      "outputs": []
    }
  ]
}